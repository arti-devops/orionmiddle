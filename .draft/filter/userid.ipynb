{
 "cells": [
  {
   "cell_type": "code",
   "execution_count": 3,
   "metadata": {},
   "outputs": [],
   "source": [
    "import requests\n",
    "import numpy as np\n",
    "import pandas as pd\n",
    "%run ../employee/links.ipynb"
   ]
  },
  {
   "cell_type": "code",
   "execution_count": 50,
   "metadata": {},
   "outputs": [],
   "source": [
    "req = requests.get(links_ns.position.all).json() # Risk of empty list\n",
    "position = pd.json_normalize(req)"
   ]
  },
  {
   "cell_type": "code",
   "execution_count": 53,
   "metadata": {},
   "outputs": [
    {
     "data": {
      "text/html": [
       "<div>\n",
       "<style scoped>\n",
       "    .dataframe tbody tr th:only-of-type {\n",
       "        vertical-align: middle;\n",
       "    }\n",
       "\n",
       "    .dataframe tbody tr th {\n",
       "        vertical-align: top;\n",
       "    }\n",
       "\n",
       "    .dataframe thead th {\n",
       "        text-align: right;\n",
       "    }\n",
       "</style>\n",
       "<table border=\"1\" class=\"dataframe\">\n",
       "  <thead>\n",
       "    <tr style=\"text-align: right;\">\n",
       "      <th></th>\n",
       "      <th>positionId</th>\n",
       "      <th>employeeId</th>\n",
       "      <th>direction</th>\n",
       "    </tr>\n",
       "  </thead>\n",
       "  <tbody>\n",
       "    <tr>\n",
       "      <th>0</th>\n",
       "      <td>1</td>\n",
       "      <td>1</td>\n",
       "      <td>DSI</td>\n",
       "    </tr>\n",
       "    <tr>\n",
       "      <th>1</th>\n",
       "      <td>2</td>\n",
       "      <td>2</td>\n",
       "      <td>DCP</td>\n",
       "    </tr>\n",
       "    <tr>\n",
       "      <th>2</th>\n",
       "      <td>3</td>\n",
       "      <td>3</td>\n",
       "      <td>DRRN</td>\n",
       "    </tr>\n",
       "    <tr>\n",
       "      <th>3</th>\n",
       "      <td>4</td>\n",
       "      <td>4</td>\n",
       "      <td>DCSTI</td>\n",
       "    </tr>\n",
       "    <tr>\n",
       "      <th>4</th>\n",
       "      <td>5</td>\n",
       "      <td>5</td>\n",
       "      <td>DSP</td>\n",
       "    </tr>\n",
       "  </tbody>\n",
       "</table>\n",
       "</div>"
      ],
      "text/plain": [
       "   positionId  employeeId direction\n",
       "0           1           1       DSI\n",
       "1           2           2       DCP\n",
       "2           3           3      DRRN\n",
       "3           4           4     DCSTI\n",
       "4           5           5       DSP"
      ]
     },
     "execution_count": 53,
     "metadata": {},
     "output_type": "execute_result"
    }
   ],
   "source": [
    "select_col = [\"positionId\",\"status\",\"employee.employeeId\",\n",
    "              \"subdivision.code\",'service.subdivision.code',\n",
    "              'service.serviceId','service.shortName',\n",
    "              'service.subdivision.subdivisionId','service.subdivision.shortName',\n",
    "              'service.subdivision.direction.subdivisionId','service.subdivision.direction.shortName',\n",
    "              'subdivision.subdivisionId','subdivision.shortName',\n",
    "              'subdivision.direction.subdivisionId','subdivision.direction.shortName']\n",
    "select_col = [\"positionId\",\"employee.employeeId\",\n",
    "              \"subdivision.code\",'service.subdivision.code']\n",
    "rename_col = [\"positionId\",\"status\",\"employeeid\",\n",
    "              \"code\",\"service.sdcode\",\n",
    "              \"serviceId\",\"serviceSn\",\n",
    "              \"serviceSubId\",\"serviceSubSn\",\n",
    "              \"serviceSubdivId\",\"serviceSubdivSn\",\n",
    "              \"subdivId\",\"subdivSn\",\n",
    "              \"subdivDirId\",\"subdivDirSn\"]\n",
    "rename_col = [\"positionId\",\"employeeId\",\n",
    "              \"codeA\",\"codeB\"]\n",
    "position_df = position[select_col].copy()\n",
    "position_df.columns = rename_col\n",
    "position_df[\"direction\"] = position_df.codeA.fillna(position_df.codeB)\n",
    "position_df.drop(columns=[\"codeA\",\"codeB\"], inplace=True)\n",
    "position_df.direction = position_df.direction.map(lambda x: x.split(\"_\")[1])\n",
    "position_df.head()"
   ]
  },
  {
   "cell_type": "code",
   "execution_count": 54,
   "metadata": {},
   "outputs": [
    {
     "name": "stdout",
     "output_type": "stream",
     "text": [
      "{'DSI': [1], 'DCP': [2, 26], 'DRRN': [3, 14, 18, 19], 'DCSTI': [4, 9], 'DSP': [5], 'DSE': [6, 10, 6], 'DMGP': [7, 8, 11, 13, 15, 16, 17, 20, 22, 25, 27], 'DGPECRP': [12, 28], 'PR': [21], 'DG': [23], 'DSESP': [24]}\n"
     ]
    }
   ],
   "source": [
    "df = position_df.copy()\n",
    "# Create an empty dictionary to store the employee IDs for each direction\n",
    "employee_ids_by_direction = {}\n",
    "\n",
    "# Loop through each unique direction in the DataFrame\n",
    "for direction in df['direction'].unique():\n",
    "    # Filter the DataFrame to only include rows with the current direction\n",
    "    direction_df = df[df['direction'] == direction]\n",
    "    # Get the employee IDs for the current direction\n",
    "    employee_ids = direction_df['employeeId'].tolist()\n",
    "    # Add the employee IDs to the dictionary, with the direction as the key\n",
    "    employee_ids_by_direction[direction] = employee_ids\n",
    "\n",
    "# Print the resulting dictionary\n",
    "print(employee_ids_by_direction)"
   ]
  }
 ],
 "metadata": {
  "kernelspec": {
   "display_name": ".venv",
   "language": "python",
   "name": "python3"
  },
  "language_info": {
   "codemirror_mode": {
    "name": "ipython",
    "version": 3
   },
   "file_extension": ".py",
   "mimetype": "text/x-python",
   "name": "python",
   "nbconvert_exporter": "python",
   "pygments_lexer": "ipython3",
   "version": "3.8.10"
  },
  "orig_nbformat": 4
 },
 "nbformat": 4,
 "nbformat_minor": 2
}
