{
 "cells": [
  {
   "cell_type": "code",
   "execution_count": 1,
   "metadata": {},
   "outputs": [],
   "source": [
    "class Namespace:\n",
    "    def __init__(self, adict):\n",
    "        self.__dict__.update(adict)"
   ]
  },
  {
   "cell_type": "code",
   "execution_count": 2,
   "metadata": {},
   "outputs": [],
   "source": [
    "base_link = \"http://172.28.22.131:8080/api/v1/\"\n",
    "\n",
    "links = {\n",
    "    \"position\":Namespace({\n",
    "        \"all\":base_link+\"position/all\",\n",
    "        \"all_active\":base_link+\"position/all/active\",\n",
    "        \"single\":base_link+\"position/\"\n",
    "    }),\n",
    "    \"employee\":Namespace({\n",
    "        \"all\":base_link+\"employee/all\",\n",
    "        \"single\":base_link+\"employee/\"\n",
    "    }),\n",
    "    \"task\":Namespace({\n",
    "        \"all\":base_link+\"task/all\",\n",
    "        \"single\":base_link+\"task/\"\n",
    "    }),\n",
    "    \"taskrole\":Namespace({\n",
    "        \"all\":base_link+\"taskrole/all\",\n",
    "        \"single\":base_link+\"taskrole/\",\n",
    "        \"position\":base_link+\"taskrole/position/\"#{p}\n",
    "    }),\n",
    "    \"logbook\":Namespace({\n",
    "        \"all\":base_link+\"logbook/all\",\n",
    "        \"range\":base_link+\"logbook/range/\", #{s}/{e}\n",
    "        \"prange\":base_link+\"logbook/range/\",#{p}/{s}/{e}\n",
    "        \"single\":base_link+\"logbook/\"\n",
    "    }),\n",
    "    \"absence\":Namespace({\n",
    "        \"all\":base_link+\"absence/all\",\n",
    "        \"range\":base_link+\"absence/range/\", #{s}/{e}\n",
    "        \"prange\":base_link+\"absence/range/\",#{p}/{s}/{e}\n",
    "        \"single\":base_link+\"absence/\"\n",
    "    }),\n",
    "    \"evaluation\":Namespace({\n",
    "        \"all\":base_link+\"evaluation/all\",\n",
    "        \"single\":base_link+\"evaluation/\",\n",
    "        \"position\":base_link+\"evaluation/position/\",#{p}\n",
    "    }),\n",
    "    \"course\":Namespace({\n",
    "        \"all\":base_link+\"course/all\",\n",
    "        \"single\":base_link+\"course/\",\n",
    "        \"position\":base_link+\"course/position/\",#{p}\n",
    "    })\n",
    "}\n",
    "\n",
    "links_ns = Namespace(links)"
   ]
  }
 ],
 "metadata": {
  "kernelspec": {
   "display_name": ".venv",
   "language": "python",
   "name": "python3"
  },
  "language_info": {
   "codemirror_mode": {
    "name": "ipython",
    "version": 3
   },
   "file_extension": ".py",
   "mimetype": "text/x-python",
   "name": "python",
   "nbconvert_exporter": "python",
   "pygments_lexer": "ipython3",
   "version": "3.10.6"
  },
  "orig_nbformat": 4
 },
 "nbformat": 4,
 "nbformat_minor": 2
}
