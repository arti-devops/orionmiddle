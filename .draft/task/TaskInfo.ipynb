{
 "cells": [
  {
   "cell_type": "code",
   "execution_count": 25,
   "metadata": {},
   "outputs": [],
   "source": [
    "import requests\n",
    "import numpy as np\n",
    "import pandas as pd\n",
    "%run ../employee/links.ipynb"
   ]
  },
  {
   "cell_type": "code",
   "execution_count": 26,
   "metadata": {},
   "outputs": [],
   "source": [
    "# req = requests.get(links_ns.taskrole.task+\"4\").json() # Risk of empty list\n",
    "req = requests.get(links_ns.task.project+\"4\").json() # Risk of empty list\n",
    "task = pd.json_normalize(req)\n"
   ]
  },
  {
   "cell_type": "code",
   "execution_count": 27,
   "metadata": {},
   "outputs": [
    {
     "data": {
      "text/html": [
       "<div>\n",
       "<style scoped>\n",
       "    .dataframe tbody tr th:only-of-type {\n",
       "        vertical-align: middle;\n",
       "    }\n",
       "\n",
       "    .dataframe tbody tr th {\n",
       "        vertical-align: top;\n",
       "    }\n",
       "\n",
       "    .dataframe thead th {\n",
       "        text-align: right;\n",
       "    }\n",
       "</style>\n",
       "<table border=\"1\" class=\"dataframe\">\n",
       "  <thead>\n",
       "    <tr style=\"text-align: right;\">\n",
       "      <th></th>\n",
       "    </tr>\n",
       "  </thead>\n",
       "  <tbody>\n",
       "  </tbody>\n",
       "</table>\n",
       "</div>"
      ],
      "text/plain": [
       "Empty DataFrame\n",
       "Columns: []\n",
       "Index: []"
      ]
     },
     "execution_count": 27,
     "metadata": {},
     "output_type": "execute_result"
    }
   ],
   "source": [
    "task"
   ]
  },
  {
   "attachments": {},
   "cell_type": "markdown",
   "metadata": {},
   "source": [
    "### 1.Task bio data"
   ]
  },
  {
   "cell_type": "code",
   "execution_count": 28,
   "metadata": {},
   "outputs": [
    {
     "data": {
      "text/plain": [
       "[{'taskId': 4,\n",
       "  'code': '350511A23CB0107',\n",
       "  'name': 'État des lieux du secteur des transports dans les différents districts ',\n",
       "  'type': 'PROJECT',\n",
       "  'startDate': '2023-01-02',\n",
       "  'endDate': '2023-06-30',\n",
       "  'status': 'SCHEDULED',\n",
       "  'progress': None,\n",
       "  'budget': None,\n",
       "  'comment': 'DCSTI',\n",
       "  'project': None}]"
      ]
     },
     "execution_count": 28,
     "metadata": {},
     "output_type": "execute_result"
    }
   ],
   "source": [
    "# Request list of project tasks\n",
    "req = requests.get(links_ns.task.single+\"4\").json() # Risk of empty list or 404\n",
    "task = pd.json_normalize(req)\n",
    "task.to_dict(orient=\"records\")"
   ]
  },
  {
   "attachments": {},
   "cell_type": "markdown",
   "metadata": {},
   "source": [
    "### 2.Project Stats"
   ]
  },
  {
   "cell_type": "code",
   "execution_count": 29,
   "metadata": {},
   "outputs": [
    {
     "data": {
      "text/plain": [
       "{'tasks': 11, 'resources': 0, 'budget': nan}"
      ]
     },
     "execution_count": 29,
     "metadata": {},
     "output_type": "execute_result"
    }
   ],
   "source": [
    "data = dict()\n",
    "data_task = dict()\n",
    "data_resources = dict()\n",
    "\n",
    "id = 42\n",
    "\n",
    "req = requests.get(links_ns.task.project+str(id))\n",
    "if req.status_code == 200 and len(req.json())>0:\n",
    "    task = pd.json_normalize(req.json())\n",
    "    data_task = task\n",
    "    nb_task = task.shape[0] # First value\n",
    "    # For each task compute number of employees involved\n",
    "    nb_emp = list([])\n",
    "    role_tmp = pd.DataFrame()\n",
    "    for taskId in task.taskId:\n",
    "        req = requests.get(links_ns.taskrole.task+str(taskId)).json() # Risk of empty list\n",
    "        if len(req)>0:\n",
    "            role = pd.json_normalize(req)\n",
    "            role_tmp = pd.concat([role_tmp, role])\n",
    "            nb_emp.append(role[\"position.positionId\"].values)\n",
    "    data_resources = role_tmp\n",
    "    if len(nb_emp)>0:\n",
    "        nb_emp = len(set(np.concatenate(nb_emp))) # Second value\n",
    "    else: nb_emp=0\n",
    "    # Project budget\n",
    "    req = requests.get(links_ns.task.single+str(id)).json() # Risk of empty list\n",
    "    task = pd.json_normalize(req)\n",
    "    budget = task.budget.max()\n",
    "    data = {\"tasks\":nb_task,\"resources\":nb_emp,\"budget\":budget}\n",
    "    # print(nb_task, nb_emp, budget)\n",
    "else: # retuen empty dict\n",
    "    data = {\"tasks\":0,\"resources\":0,\"budget\":0}\n",
    "data"
   ]
  },
  {
   "attachments": {},
   "cell_type": "markdown",
   "metadata": {},
   "source": [
    "### 3. Activity List"
   ]
  },
  {
   "cell_type": "code",
   "execution_count": 30,
   "metadata": {},
   "outputs": [
    {
     "data": {
      "text/html": [
       "<div>\n",
       "<style scoped>\n",
       "    .dataframe tbody tr th:only-of-type {\n",
       "        vertical-align: middle;\n",
       "    }\n",
       "\n",
       "    .dataframe tbody tr th {\n",
       "        vertical-align: top;\n",
       "    }\n",
       "\n",
       "    .dataframe thead th {\n",
       "        text-align: right;\n",
       "    }\n",
       "</style>\n",
       "<table border=\"1\" class=\"dataframe\">\n",
       "  <thead>\n",
       "    <tr style=\"text-align: right;\">\n",
       "      <th></th>\n",
       "      <th>tasks</th>\n",
       "      <th>resources</th>\n",
       "      <th>budget</th>\n",
       "    </tr>\n",
       "  </thead>\n",
       "  <tbody>\n",
       "    <tr>\n",
       "      <th>0</th>\n",
       "      <td>11</td>\n",
       "      <td>0</td>\n",
       "      <td>NaN</td>\n",
       "    </tr>\n",
       "  </tbody>\n",
       "</table>\n",
       "</div>"
      ],
      "text/plain": [
       "   tasks  resources  budget\n",
       "0     11          0     NaN"
      ]
     },
     "execution_count": 30,
     "metadata": {},
     "output_type": "execute_result"
    }
   ],
   "source": [
    "pd.DataFrame([data])"
   ]
  },
  {
   "cell_type": "code",
   "execution_count": 31,
   "metadata": {},
   "outputs": [
    {
     "ename": "KeyError",
     "evalue": "\"None of [Index(['role', 'task.taskId', 'position.employee.employeeId',\\n       'position.employee.firstName', 'position.employee.lastName'],\\n      dtype='object')] are in the [columns]\"",
     "output_type": "error",
     "traceback": [
      "\u001b[0;31m---------------------------------------------------------------------------\u001b[0m",
      "\u001b[0;31mKeyError\u001b[0m                                  Traceback (most recent call last)",
      "Cell \u001b[0;32mIn[31], line 2\u001b[0m\n\u001b[1;32m      1\u001b[0m tasks_df \u001b[39m=\u001b[39m data_task[[\u001b[39m\"\u001b[39m\u001b[39mtaskId\u001b[39m\u001b[39m\"\u001b[39m,\u001b[39m\"\u001b[39m\u001b[39mcode\u001b[39m\u001b[39m\"\u001b[39m,\u001b[39m\"\u001b[39m\u001b[39mname\u001b[39m\u001b[39m\"\u001b[39m,\u001b[39m\"\u001b[39m\u001b[39mtype\u001b[39m\u001b[39m\"\u001b[39m,\u001b[39m\"\u001b[39m\u001b[39mstatus\u001b[39m\u001b[39m\"\u001b[39m,\u001b[39m\"\u001b[39m\u001b[39mendDate\u001b[39m\u001b[39m\"\u001b[39m]]\n\u001b[0;32m----> 2\u001b[0m resources_df \u001b[39m=\u001b[39m data_resources[[\u001b[39m\"\u001b[39;49m\u001b[39mrole\u001b[39;49m\u001b[39m\"\u001b[39;49m,\u001b[39m\"\u001b[39;49m\u001b[39mtask.taskId\u001b[39;49m\u001b[39m\"\u001b[39;49m,\u001b[39m\"\u001b[39;49m\u001b[39mposition.employee.employeeId\u001b[39;49m\u001b[39m\"\u001b[39;49m,\n\u001b[1;32m      3\u001b[0m                                \u001b[39m\"\u001b[39;49m\u001b[39mposition.employee.firstName\u001b[39;49m\u001b[39m\"\u001b[39;49m,\u001b[39m\"\u001b[39;49m\u001b[39mposition.employee.lastName\u001b[39;49m\u001b[39m\"\u001b[39;49m]]\n\u001b[1;32m      5\u001b[0m df \u001b[39m=\u001b[39m pd\u001b[39m.\u001b[39mmerge(left\u001b[39m=\u001b[39mtasks_df, right\u001b[39m=\u001b[39mresources_df, left_on\u001b[39m=\u001b[39m\u001b[39m\"\u001b[39m\u001b[39mtaskId\u001b[39m\u001b[39m\"\u001b[39m, right_on\u001b[39m=\u001b[39m\u001b[39m\"\u001b[39m\u001b[39mtask.taskId\u001b[39m\u001b[39m\"\u001b[39m)\n\u001b[1;32m      6\u001b[0m df\u001b[39m.\u001b[39mdrop(columns\u001b[39m=\u001b[39m[\u001b[39m\"\u001b[39m\u001b[39mtask.taskId\u001b[39m\u001b[39m\"\u001b[39m], inplace\u001b[39m=\u001b[39m\u001b[39mTrue\u001b[39;00m)\n",
      "File \u001b[0;32m~/arti/orionmiddle/.venv/lib/python3.8/site-packages/pandas/core/frame.py:3813\u001b[0m, in \u001b[0;36mDataFrame.__getitem__\u001b[0;34m(self, key)\u001b[0m\n\u001b[1;32m   3811\u001b[0m     \u001b[39mif\u001b[39;00m is_iterator(key):\n\u001b[1;32m   3812\u001b[0m         key \u001b[39m=\u001b[39m \u001b[39mlist\u001b[39m(key)\n\u001b[0;32m-> 3813\u001b[0m     indexer \u001b[39m=\u001b[39m \u001b[39mself\u001b[39;49m\u001b[39m.\u001b[39;49mcolumns\u001b[39m.\u001b[39;49m_get_indexer_strict(key, \u001b[39m\"\u001b[39;49m\u001b[39mcolumns\u001b[39;49m\u001b[39m\"\u001b[39;49m)[\u001b[39m1\u001b[39m]\n\u001b[1;32m   3815\u001b[0m \u001b[39m# take() does not accept boolean indexers\u001b[39;00m\n\u001b[1;32m   3816\u001b[0m \u001b[39mif\u001b[39;00m \u001b[39mgetattr\u001b[39m(indexer, \u001b[39m\"\u001b[39m\u001b[39mdtype\u001b[39m\u001b[39m\"\u001b[39m, \u001b[39mNone\u001b[39;00m) \u001b[39m==\u001b[39m \u001b[39mbool\u001b[39m:\n",
      "File \u001b[0;32m~/arti/orionmiddle/.venv/lib/python3.8/site-packages/pandas/core/indexes/base.py:6070\u001b[0m, in \u001b[0;36mIndex._get_indexer_strict\u001b[0;34m(self, key, axis_name)\u001b[0m\n\u001b[1;32m   6067\u001b[0m \u001b[39melse\u001b[39;00m:\n\u001b[1;32m   6068\u001b[0m     keyarr, indexer, new_indexer \u001b[39m=\u001b[39m \u001b[39mself\u001b[39m\u001b[39m.\u001b[39m_reindex_non_unique(keyarr)\n\u001b[0;32m-> 6070\u001b[0m \u001b[39mself\u001b[39;49m\u001b[39m.\u001b[39;49m_raise_if_missing(keyarr, indexer, axis_name)\n\u001b[1;32m   6072\u001b[0m keyarr \u001b[39m=\u001b[39m \u001b[39mself\u001b[39m\u001b[39m.\u001b[39mtake(indexer)\n\u001b[1;32m   6073\u001b[0m \u001b[39mif\u001b[39;00m \u001b[39misinstance\u001b[39m(key, Index):\n\u001b[1;32m   6074\u001b[0m     \u001b[39m# GH 42790 - Preserve name from an Index\u001b[39;00m\n",
      "File \u001b[0;32m~/arti/orionmiddle/.venv/lib/python3.8/site-packages/pandas/core/indexes/base.py:6130\u001b[0m, in \u001b[0;36mIndex._raise_if_missing\u001b[0;34m(self, key, indexer, axis_name)\u001b[0m\n\u001b[1;32m   6128\u001b[0m     \u001b[39mif\u001b[39;00m use_interval_msg:\n\u001b[1;32m   6129\u001b[0m         key \u001b[39m=\u001b[39m \u001b[39mlist\u001b[39m(key)\n\u001b[0;32m-> 6130\u001b[0m     \u001b[39mraise\u001b[39;00m \u001b[39mKeyError\u001b[39;00m(\u001b[39mf\u001b[39m\u001b[39m\"\u001b[39m\u001b[39mNone of [\u001b[39m\u001b[39m{\u001b[39;00mkey\u001b[39m}\u001b[39;00m\u001b[39m] are in the [\u001b[39m\u001b[39m{\u001b[39;00maxis_name\u001b[39m}\u001b[39;00m\u001b[39m]\u001b[39m\u001b[39m\"\u001b[39m)\n\u001b[1;32m   6132\u001b[0m not_found \u001b[39m=\u001b[39m \u001b[39mlist\u001b[39m(ensure_index(key)[missing_mask\u001b[39m.\u001b[39mnonzero()[\u001b[39m0\u001b[39m]]\u001b[39m.\u001b[39munique())\n\u001b[1;32m   6133\u001b[0m \u001b[39mraise\u001b[39;00m \u001b[39mKeyError\u001b[39;00m(\u001b[39mf\u001b[39m\u001b[39m\"\u001b[39m\u001b[39m{\u001b[39;00mnot_found\u001b[39m}\u001b[39;00m\u001b[39m not in index\u001b[39m\u001b[39m\"\u001b[39m)\n",
      "\u001b[0;31mKeyError\u001b[0m: \"None of [Index(['role', 'task.taskId', 'position.employee.employeeId',\\n       'position.employee.firstName', 'position.employee.lastName'],\\n      dtype='object')] are in the [columns]\""
     ]
    }
   ],
   "source": [
    "tasks_df = data_task[[\"taskId\",\"code\",\"name\",\"type\",\"status\",\"endDate\"]]\n",
    "resources_df = data_resources[[\"role\",\"task.taskId\",\"position.employee.employeeId\",\n",
    "                               \"position.employee.firstName\",\"position.employee.lastName\"]]\n",
    "\n",
    "df = pd.merge(left=tasks_df, right=resources_df, left_on=\"taskId\", right_on=\"task.taskId\")\n",
    "df.drop(columns=[\"task.taskId\"], inplace=True)\n",
    "rename_col = [\"taskId\",\"code\",\"name\",\"type\",\"status\",\"endDate\",\"role\",\"employeeId\",\"firstName\",\"lastName\"]\n",
    "df.columns = rename_col\n",
    "\n",
    "df"
   ]
  },
  {
   "attachments": {},
   "cell_type": "markdown",
   "metadata": {},
   "source": [
    "### 1.4 Resources list"
   ]
  },
  {
   "cell_type": "code",
   "execution_count": null,
   "metadata": {},
   "outputs": [],
   "source": [
    "emp_task_list = data_resources[[\"task.taskId\",\"position.employee.employeeId\",\"position.employee.lastName\",\"position.employee.firstName\",\"role\",\"task.name\",\"task.status\"]]\n",
    "rename_col = [\"taskId\",\"employeeId\",\"lastName\",\"firstName\",\"role\",\"taskName\",\"status\"]\n",
    "emp_task_list.columns = rename_col\n",
    "#emp_task_list"
   ]
  },
  {
   "cell_type": "code",
   "execution_count": null,
   "metadata": {},
   "outputs": [
    {
     "data": {
      "text/html": [
       "<div>\n",
       "<style scoped>\n",
       "    .dataframe tbody tr th:only-of-type {\n",
       "        vertical-align: middle;\n",
       "    }\n",
       "\n",
       "    .dataframe tbody tr th {\n",
       "        vertical-align: top;\n",
       "    }\n",
       "\n",
       "    .dataframe thead th {\n",
       "        text-align: right;\n",
       "    }\n",
       "</style>\n",
       "<table border=\"1\" class=\"dataframe\">\n",
       "  <thead>\n",
       "    <tr style=\"text-align: right;\">\n",
       "      <th></th>\n",
       "      <th>taskId</th>\n",
       "      <th>employeeId</th>\n",
       "      <th>lastName</th>\n",
       "      <th>firstName</th>\n",
       "      <th>role</th>\n",
       "      <th>taskName</th>\n",
       "      <th>status</th>\n",
       "    </tr>\n",
       "  </thead>\n",
       "  <tbody>\n",
       "    <tr>\n",
       "      <th>0</th>\n",
       "      <td>8</td>\n",
       "      <td>6</td>\n",
       "      <td>CISSE</td>\n",
       "      <td>Alassane</td>\n",
       "      <td>RESPONSABLE</td>\n",
       "      <td>Prototypage de l'application</td>\n",
       "      <td>FINISHED</td>\n",
       "    </tr>\n",
       "    <tr>\n",
       "      <th>0</th>\n",
       "      <td>9</td>\n",
       "      <td>6</td>\n",
       "      <td>CISSE</td>\n",
       "      <td>Alassane</td>\n",
       "      <td>RESPONSABLE</td>\n",
       "      <td>Design des bases de données de l'application</td>\n",
       "      <td>IN_PROGRESS</td>\n",
       "    </tr>\n",
       "    <tr>\n",
       "      <th>0</th>\n",
       "      <td>10</td>\n",
       "      <td>6</td>\n",
       "      <td>CISSE</td>\n",
       "      <td>Alassane</td>\n",
       "      <td>RESPONSABLE</td>\n",
       "      <td>Mise en production</td>\n",
       "      <td>SCHEDULED</td>\n",
       "    </tr>\n",
       "  </tbody>\n",
       "</table>\n",
       "</div>"
      ],
      "text/plain": [
       "   taskId  employeeId lastName firstName         role  \\\n",
       "0       8           6    CISSE  Alassane  RESPONSABLE   \n",
       "0       9           6    CISSE  Alassane  RESPONSABLE   \n",
       "0      10           6    CISSE  Alassane  RESPONSABLE   \n",
       "\n",
       "                                       taskName       status  \n",
       "0                  Prototypage de l'application     FINISHED  \n",
       "0  Design des bases de données de l'application  IN_PROGRESS  \n",
       "0                            Mise en production    SCHEDULED  "
      ]
     },
     "execution_count": 23,
     "metadata": {},
     "output_type": "execute_result"
    }
   ],
   "source": [
    "emp_task_list"
   ]
  },
  {
   "cell_type": "code",
   "execution_count": null,
   "metadata": {},
   "outputs": [
    {
     "data": {
      "text/html": [
       "<div>\n",
       "<style scoped>\n",
       "    .dataframe tbody tr th:only-of-type {\n",
       "        vertical-align: middle;\n",
       "    }\n",
       "\n",
       "    .dataframe tbody tr th {\n",
       "        vertical-align: top;\n",
       "    }\n",
       "\n",
       "    .dataframe thead th {\n",
       "        text-align: right;\n",
       "    }\n",
       "</style>\n",
       "<table border=\"1\" class=\"dataframe\">\n",
       "  <thead>\n",
       "    <tr style=\"text-align: right;\">\n",
       "      <th></th>\n",
       "      <th>employeeId</th>\n",
       "      <th>total_tasks</th>\n",
       "      <th>finished_tasks</th>\n",
       "      <th>ratio_finished</th>\n",
       "      <th>lastName</th>\n",
       "      <th>firstName</th>\n",
       "      <th>role</th>\n",
       "    </tr>\n",
       "  </thead>\n",
       "  <tbody>\n",
       "    <tr>\n",
       "      <th>0</th>\n",
       "      <td>6</td>\n",
       "      <td>3</td>\n",
       "      <td>1</td>\n",
       "      <td>0.333333</td>\n",
       "      <td>CISSE</td>\n",
       "      <td>Alassane</td>\n",
       "      <td>RESPONSABLE</td>\n",
       "    </tr>\n",
       "  </tbody>\n",
       "</table>\n",
       "</div>"
      ],
      "text/plain": [
       "   employeeId  total_tasks  finished_tasks  ratio_finished lastName firstName  \\\n",
       "0           6            3               1        0.333333    CISSE  Alassane   \n",
       "\n",
       "          role  \n",
       "0  RESPONSABLE  "
      ]
     },
     "execution_count": 24,
     "metadata": {},
     "output_type": "execute_result"
    }
   ],
   "source": [
    "# compute total number of tasks per employee\n",
    "total_tasks = emp_task_list.groupby('employeeId')['taskId'].count()\n",
    "# compute number of finished tasks per employee\n",
    "finished_tasks = emp_task_list[emp_task_list['status'] == 'FINISHED'].groupby('employeeId')['taskId'].count()\n",
    "# compute ratio of finished tasks per employee\n",
    "ratio_finished = finished_tasks / total_tasks\n",
    "# merge the three results into a single DataFrame\n",
    "result = pd.concat([total_tasks, finished_tasks, ratio_finished], axis=1)\n",
    "result.columns = ['total_tasks', 'finished_tasks', 'ratio_finished']\n",
    "result.reset_index(inplace=True)\n",
    "\n",
    "pd.merge(left=result, right=emp_task_list.groupby(\"employeeId\")[[\"lastName\",\"firstName\",\"role\"]].first().reset_index(), how='left')"
   ]
  },
  {
   "cell_type": "code",
   "execution_count": null,
   "metadata": {},
   "outputs": [],
   "source": []
  }
 ],
 "metadata": {
  "kernelspec": {
   "display_name": ".venv",
   "language": "python",
   "name": "python3"
  },
  "language_info": {
   "codemirror_mode": {
    "name": "ipython",
    "version": 3
   },
   "file_extension": ".py",
   "mimetype": "text/x-python",
   "name": "python",
   "nbconvert_exporter": "python",
   "pygments_lexer": "ipython3",
   "version": "3.8.10"
  },
  "orig_nbformat": 4
 },
 "nbformat": 4,
 "nbformat_minor": 2
}
