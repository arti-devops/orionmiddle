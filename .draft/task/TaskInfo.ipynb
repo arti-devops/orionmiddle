{
 "cells": [
  {
   "cell_type": "code",
   "execution_count": 1,
   "metadata": {},
   "outputs": [],
   "source": [
    "import requests\n",
    "import numpy as np\n",
    "import pandas as pd\n",
    "%run ../employee/links.ipynb"
   ]
  },
  {
   "cell_type": "code",
   "execution_count": 2,
   "metadata": {},
   "outputs": [],
   "source": [
    "# req = requests.get(links_ns.taskrole.task+\"4\").json() # Risk of empty list\n",
    "req = requests.get(links_ns.task.project+\"4\").json() # Risk of empty list\n",
    "task = pd.json_normalize(req)\n"
   ]
  },
  {
   "cell_type": "code",
   "execution_count": 3,
   "metadata": {},
   "outputs": [
    {
     "data": {
      "text/html": [
       "<div>\n",
       "<style scoped>\n",
       "    .dataframe tbody tr th:only-of-type {\n",
       "        vertical-align: middle;\n",
       "    }\n",
       "\n",
       "    .dataframe tbody tr th {\n",
       "        vertical-align: top;\n",
       "    }\n",
       "\n",
       "    .dataframe thead th {\n",
       "        text-align: right;\n",
       "    }\n",
       "</style>\n",
       "<table border=\"1\" class=\"dataframe\">\n",
       "  <thead>\n",
       "    <tr style=\"text-align: right;\">\n",
       "      <th></th>\n",
       "      <th>taskId</th>\n",
       "      <th>code</th>\n",
       "      <th>name</th>\n",
       "      <th>type</th>\n",
       "      <th>startDate</th>\n",
       "      <th>endDate</th>\n",
       "      <th>status</th>\n",
       "      <th>progress</th>\n",
       "      <th>budget</th>\n",
       "      <th>comment</th>\n",
       "      <th>...</th>\n",
       "      <th>project.code</th>\n",
       "      <th>project.name</th>\n",
       "      <th>project.type</th>\n",
       "      <th>project.startDate</th>\n",
       "      <th>project.endDate</th>\n",
       "      <th>project.status</th>\n",
       "      <th>project.progress</th>\n",
       "      <th>project.budget</th>\n",
       "      <th>project.comment</th>\n",
       "      <th>project.project</th>\n",
       "    </tr>\n",
       "  </thead>\n",
       "  <tbody>\n",
       "    <tr>\n",
       "      <th>0</th>\n",
       "      <td>8</td>\n",
       "      <td>A-03-23</td>\n",
       "      <td>Prototypage de l'application</td>\n",
       "      <td>ACTIVITY</td>\n",
       "      <td>2023-01-03</td>\n",
       "      <td>2023-02-22</td>\n",
       "      <td>FINISHED</td>\n",
       "      <td>None</td>\n",
       "      <td>None</td>\n",
       "      <td>DSESP</td>\n",
       "      <td>...</td>\n",
       "      <td>A-01-23</td>\n",
       "      <td>Application de suivi-évaluation des activités ...</td>\n",
       "      <td>PROJECT</td>\n",
       "      <td>2023-01-02</td>\n",
       "      <td>2023-05-31</td>\n",
       "      <td>IN_PROGRESS</td>\n",
       "      <td>52.0</td>\n",
       "      <td>700000</td>\n",
       "      <td>DSESP</td>\n",
       "      <td>None</td>\n",
       "    </tr>\n",
       "    <tr>\n",
       "      <th>1</th>\n",
       "      <td>9</td>\n",
       "      <td>A-04-23</td>\n",
       "      <td>Design des bases de données de l'application</td>\n",
       "      <td>ACTIVITY</td>\n",
       "      <td>2023-03-20</td>\n",
       "      <td>2023-03-24</td>\n",
       "      <td>IN_PROGRESS</td>\n",
       "      <td>None</td>\n",
       "      <td>None</td>\n",
       "      <td>DSESP</td>\n",
       "      <td>...</td>\n",
       "      <td>A-01-23</td>\n",
       "      <td>Application de suivi-évaluation des activités ...</td>\n",
       "      <td>PROJECT</td>\n",
       "      <td>2023-01-02</td>\n",
       "      <td>2023-05-31</td>\n",
       "      <td>IN_PROGRESS</td>\n",
       "      <td>52.0</td>\n",
       "      <td>700000</td>\n",
       "      <td>DSESP</td>\n",
       "      <td>None</td>\n",
       "    </tr>\n",
       "    <tr>\n",
       "      <th>2</th>\n",
       "      <td>10</td>\n",
       "      <td>A-04-23</td>\n",
       "      <td>Mise en production</td>\n",
       "      <td>ACTIVITY</td>\n",
       "      <td>2023-04-07</td>\n",
       "      <td>2023-04-15</td>\n",
       "      <td>SCHEDULED</td>\n",
       "      <td>None</td>\n",
       "      <td>None</td>\n",
       "      <td>DSESP</td>\n",
       "      <td>...</td>\n",
       "      <td>A-01-23</td>\n",
       "      <td>Application de suivi-évaluation des activités ...</td>\n",
       "      <td>PROJECT</td>\n",
       "      <td>2023-01-02</td>\n",
       "      <td>2023-05-31</td>\n",
       "      <td>IN_PROGRESS</td>\n",
       "      <td>52.0</td>\n",
       "      <td>700000</td>\n",
       "      <td>DSESP</td>\n",
       "      <td>None</td>\n",
       "    </tr>\n",
       "  </tbody>\n",
       "</table>\n",
       "<p>3 rows × 21 columns</p>\n",
       "</div>"
      ],
      "text/plain": [
       "   taskId     code                                          name      type  \\\n",
       "0       8  A-03-23                  Prototypage de l'application  ACTIVITY   \n",
       "1       9  A-04-23  Design des bases de données de l'application  ACTIVITY   \n",
       "2      10  A-04-23                            Mise en production  ACTIVITY   \n",
       "\n",
       "    startDate     endDate       status progress budget comment  ...  \\\n",
       "0  2023-01-03  2023-02-22     FINISHED     None   None   DSESP  ...   \n",
       "1  2023-03-20  2023-03-24  IN_PROGRESS     None   None   DSESP  ...   \n",
       "2  2023-04-07  2023-04-15    SCHEDULED     None   None   DSESP  ...   \n",
       "\n",
       "   project.code                                       project.name  \\\n",
       "0       A-01-23  Application de suivi-évaluation des activités ...   \n",
       "1       A-01-23  Application de suivi-évaluation des activités ...   \n",
       "2       A-01-23  Application de suivi-évaluation des activités ...   \n",
       "\n",
       "  project.type project.startDate project.endDate project.status  \\\n",
       "0      PROJECT        2023-01-02      2023-05-31    IN_PROGRESS   \n",
       "1      PROJECT        2023-01-02      2023-05-31    IN_PROGRESS   \n",
       "2      PROJECT        2023-01-02      2023-05-31    IN_PROGRESS   \n",
       "\n",
       "  project.progress  project.budget  project.comment project.project  \n",
       "0             52.0          700000            DSESP            None  \n",
       "1             52.0          700000            DSESP            None  \n",
       "2             52.0          700000            DSESP            None  \n",
       "\n",
       "[3 rows x 21 columns]"
      ]
     },
     "execution_count": 3,
     "metadata": {},
     "output_type": "execute_result"
    }
   ],
   "source": [
    "task"
   ]
  },
  {
   "attachments": {},
   "cell_type": "markdown",
   "metadata": {},
   "source": [
    "### 1.Task bio data"
   ]
  },
  {
   "cell_type": "code",
   "execution_count": 4,
   "metadata": {},
   "outputs": [
    {
     "data": {
      "text/plain": [
       "[{'taskId': 4,\n",
       "  'code': 'A-01-23',\n",
       "  'name': \"Application de suivi-évaluation des activités de l'ARTI\",\n",
       "  'type': 'PROJECT',\n",
       "  'startDate': '2023-01-02',\n",
       "  'endDate': '2023-05-31',\n",
       "  'status': 'IN_PROGRESS',\n",
       "  'progress': 52.0,\n",
       "  'budget': 700000,\n",
       "  'comment': 'DSESP',\n",
       "  'project': None}]"
      ]
     },
     "execution_count": 4,
     "metadata": {},
     "output_type": "execute_result"
    }
   ],
   "source": [
    "# Request list of project tasks\n",
    "req = requests.get(links_ns.task.single+\"4\").json() # Risk of empty list or 404\n",
    "task = pd.json_normalize(req)\n",
    "task.to_dict(orient=\"records\")"
   ]
  },
  {
   "attachments": {},
   "cell_type": "markdown",
   "metadata": {},
   "source": [
    "### 2.Project Stats"
   ]
  },
  {
   "cell_type": "code",
   "execution_count": 9,
   "metadata": {},
   "outputs": [
    {
     "data": {
      "text/plain": [
       "{'tasks': 3, 'resources': 1, 'budget': 700000}"
      ]
     },
     "execution_count": 9,
     "metadata": {},
     "output_type": "execute_result"
    }
   ],
   "source": [
    "data = dict()\n",
    "data_task = dict()\n",
    "data_resources = dict()\n",
    "\n",
    "id = 4\n",
    "\n",
    "req = requests.get(links_ns.task.project+str(id))\n",
    "if req.status_code == 200 and len(req.json())>0:\n",
    "    task = pd.json_normalize(req.json())\n",
    "    data_task = task\n",
    "    nb_task = task.shape[0] # First value\n",
    "    # For each task compute number of employees involved\n",
    "    nb_emp = list([])\n",
    "    role_tmp = pd.DataFrame()\n",
    "    for taskId in task.taskId:\n",
    "        req = requests.get(links_ns.taskrole.task+str(taskId)).json() # Risk of empty list\n",
    "        if len(req)>0:\n",
    "            role = pd.json_normalize(req)\n",
    "            role_tmp = pd.concat([role_tmp, role])\n",
    "            nb_emp.append(role[\"position.positionId\"].values)\n",
    "    data_resources = role_tmp\n",
    "    if len(nb_emp)>0:\n",
    "        nb_emp = len(set(np.concatenate(nb_emp))) # Second value\n",
    "    else: nb_emp=0\n",
    "    # Project budget\n",
    "    req = requests.get(links_ns.task.single+str(id)).json() # Risk of empty list\n",
    "    task = pd.json_normalize(req)\n",
    "    budget = task.budget.max()\n",
    "    data = {\"tasks\":nb_task,\"resources\":nb_emp,\"budget\":budget}\n",
    "    # print(nb_task, nb_emp, budget)\n",
    "else: # retuen empty dict\n",
    "    data = {\"tasks\":0,\"resources\":0,\"budget\":0}\n",
    "data"
   ]
  },
  {
   "attachments": {},
   "cell_type": "markdown",
   "metadata": {},
   "source": [
    "### 3. Activity List"
   ]
  },
  {
   "cell_type": "code",
   "execution_count": 15,
   "metadata": {},
   "outputs": [
    {
     "data": {
      "text/html": [
       "<div>\n",
       "<style scoped>\n",
       "    .dataframe tbody tr th:only-of-type {\n",
       "        vertical-align: middle;\n",
       "    }\n",
       "\n",
       "    .dataframe tbody tr th {\n",
       "        vertical-align: top;\n",
       "    }\n",
       "\n",
       "    .dataframe thead th {\n",
       "        text-align: right;\n",
       "    }\n",
       "</style>\n",
       "<table border=\"1\" class=\"dataframe\">\n",
       "  <thead>\n",
       "    <tr style=\"text-align: right;\">\n",
       "      <th></th>\n",
       "      <th>tasks</th>\n",
       "      <th>resources</th>\n",
       "      <th>budget</th>\n",
       "    </tr>\n",
       "  </thead>\n",
       "  <tbody>\n",
       "    <tr>\n",
       "      <th>0</th>\n",
       "      <td>3</td>\n",
       "      <td>1</td>\n",
       "      <td>700000</td>\n",
       "    </tr>\n",
       "  </tbody>\n",
       "</table>\n",
       "</div>"
      ],
      "text/plain": [
       "   tasks  resources  budget\n",
       "0      3          1  700000"
      ]
     },
     "execution_count": 15,
     "metadata": {},
     "output_type": "execute_result"
    }
   ],
   "source": [
    "pd.DataFrame([data])"
   ]
  },
  {
   "cell_type": "code",
   "execution_count": 16,
   "metadata": {},
   "outputs": [
    {
     "data": {
      "text/html": [
       "<div>\n",
       "<style scoped>\n",
       "    .dataframe tbody tr th:only-of-type {\n",
       "        vertical-align: middle;\n",
       "    }\n",
       "\n",
       "    .dataframe tbody tr th {\n",
       "        vertical-align: top;\n",
       "    }\n",
       "\n",
       "    .dataframe thead th {\n",
       "        text-align: right;\n",
       "    }\n",
       "</style>\n",
       "<table border=\"1\" class=\"dataframe\">\n",
       "  <thead>\n",
       "    <tr style=\"text-align: right;\">\n",
       "      <th></th>\n",
       "      <th>taskId</th>\n",
       "      <th>code</th>\n",
       "      <th>name</th>\n",
       "      <th>type</th>\n",
       "      <th>status</th>\n",
       "      <th>endDate</th>\n",
       "      <th>role</th>\n",
       "      <th>employeeId</th>\n",
       "      <th>firstName</th>\n",
       "      <th>lastName</th>\n",
       "    </tr>\n",
       "  </thead>\n",
       "  <tbody>\n",
       "    <tr>\n",
       "      <th>0</th>\n",
       "      <td>8</td>\n",
       "      <td>A-03-23</td>\n",
       "      <td>Prototypage de l'application</td>\n",
       "      <td>ACTIVITY</td>\n",
       "      <td>FINISHED</td>\n",
       "      <td>2023-02-22</td>\n",
       "      <td>RESPONSABLE</td>\n",
       "      <td>6</td>\n",
       "      <td>Alassane</td>\n",
       "      <td>CISSE</td>\n",
       "    </tr>\n",
       "    <tr>\n",
       "      <th>1</th>\n",
       "      <td>9</td>\n",
       "      <td>A-04-23</td>\n",
       "      <td>Design des bases de données de l'application</td>\n",
       "      <td>ACTIVITY</td>\n",
       "      <td>IN_PROGRESS</td>\n",
       "      <td>2023-03-24</td>\n",
       "      <td>RESPONSABLE</td>\n",
       "      <td>6</td>\n",
       "      <td>Alassane</td>\n",
       "      <td>CISSE</td>\n",
       "    </tr>\n",
       "    <tr>\n",
       "      <th>2</th>\n",
       "      <td>10</td>\n",
       "      <td>A-04-23</td>\n",
       "      <td>Mise en production</td>\n",
       "      <td>ACTIVITY</td>\n",
       "      <td>SCHEDULED</td>\n",
       "      <td>2023-04-15</td>\n",
       "      <td>RESPONSABLE</td>\n",
       "      <td>6</td>\n",
       "      <td>Alassane</td>\n",
       "      <td>CISSE</td>\n",
       "    </tr>\n",
       "  </tbody>\n",
       "</table>\n",
       "</div>"
      ],
      "text/plain": [
       "   taskId     code                                          name      type  \\\n",
       "0       8  A-03-23                  Prototypage de l'application  ACTIVITY   \n",
       "1       9  A-04-23  Design des bases de données de l'application  ACTIVITY   \n",
       "2      10  A-04-23                            Mise en production  ACTIVITY   \n",
       "\n",
       "        status     endDate         role  employeeId firstName lastName  \n",
       "0     FINISHED  2023-02-22  RESPONSABLE           6  Alassane    CISSE  \n",
       "1  IN_PROGRESS  2023-03-24  RESPONSABLE           6  Alassane    CISSE  \n",
       "2    SCHEDULED  2023-04-15  RESPONSABLE           6  Alassane    CISSE  "
      ]
     },
     "execution_count": 16,
     "metadata": {},
     "output_type": "execute_result"
    }
   ],
   "source": [
    "tasks_df = data_task[[\"taskId\",\"code\",\"name\",\"type\",\"status\",\"endDate\"]]\n",
    "resources_df = data_resources[[\"role\",\"task.taskId\",\"position.employee.employeeId\",\n",
    "                               \"position.employee.firstName\",\"position.employee.lastName\"]]\n",
    "\n",
    "df = pd.merge(left=tasks_df, right=resources_df, left_on=\"taskId\", right_on=\"task.taskId\")\n",
    "df.drop(columns=[\"task.taskId\"], inplace=True)\n",
    "rename_col = [\"taskId\",\"code\",\"name\",\"type\",\"status\",\"endDate\",\"role\",\"employeeId\",\"firstName\",\"lastName\"]\n",
    "df.columns = rename_col\n",
    "\n",
    "df"
   ]
  },
  {
   "attachments": {},
   "cell_type": "markdown",
   "metadata": {},
   "source": [
    "### 1.4 Resources list"
   ]
  },
  {
   "cell_type": "code",
   "execution_count": 22,
   "metadata": {},
   "outputs": [],
   "source": [
    "emp_task_list = data_resources[[\"task.taskId\",\"position.employee.employeeId\",\"position.employee.lastName\",\"position.employee.firstName\",\"role\",\"task.name\",\"task.status\"]]\n",
    "rename_col = [\"taskId\",\"employeeId\",\"lastName\",\"firstName\",\"role\",\"taskName\",\"status\"]\n",
    "emp_task_list.columns = rename_col\n",
    "#emp_task_list"
   ]
  },
  {
   "cell_type": "code",
   "execution_count": 23,
   "metadata": {},
   "outputs": [
    {
     "data": {
      "text/html": [
       "<div>\n",
       "<style scoped>\n",
       "    .dataframe tbody tr th:only-of-type {\n",
       "        vertical-align: middle;\n",
       "    }\n",
       "\n",
       "    .dataframe tbody tr th {\n",
       "        vertical-align: top;\n",
       "    }\n",
       "\n",
       "    .dataframe thead th {\n",
       "        text-align: right;\n",
       "    }\n",
       "</style>\n",
       "<table border=\"1\" class=\"dataframe\">\n",
       "  <thead>\n",
       "    <tr style=\"text-align: right;\">\n",
       "      <th></th>\n",
       "      <th>taskId</th>\n",
       "      <th>employeeId</th>\n",
       "      <th>lastName</th>\n",
       "      <th>firstName</th>\n",
       "      <th>role</th>\n",
       "      <th>taskName</th>\n",
       "      <th>status</th>\n",
       "    </tr>\n",
       "  </thead>\n",
       "  <tbody>\n",
       "    <tr>\n",
       "      <th>0</th>\n",
       "      <td>8</td>\n",
       "      <td>6</td>\n",
       "      <td>CISSE</td>\n",
       "      <td>Alassane</td>\n",
       "      <td>RESPONSABLE</td>\n",
       "      <td>Prototypage de l'application</td>\n",
       "      <td>FINISHED</td>\n",
       "    </tr>\n",
       "    <tr>\n",
       "      <th>0</th>\n",
       "      <td>9</td>\n",
       "      <td>6</td>\n",
       "      <td>CISSE</td>\n",
       "      <td>Alassane</td>\n",
       "      <td>RESPONSABLE</td>\n",
       "      <td>Design des bases de données de l'application</td>\n",
       "      <td>IN_PROGRESS</td>\n",
       "    </tr>\n",
       "    <tr>\n",
       "      <th>0</th>\n",
       "      <td>10</td>\n",
       "      <td>6</td>\n",
       "      <td>CISSE</td>\n",
       "      <td>Alassane</td>\n",
       "      <td>RESPONSABLE</td>\n",
       "      <td>Mise en production</td>\n",
       "      <td>SCHEDULED</td>\n",
       "    </tr>\n",
       "  </tbody>\n",
       "</table>\n",
       "</div>"
      ],
      "text/plain": [
       "   taskId  employeeId lastName firstName         role  \\\n",
       "0       8           6    CISSE  Alassane  RESPONSABLE   \n",
       "0       9           6    CISSE  Alassane  RESPONSABLE   \n",
       "0      10           6    CISSE  Alassane  RESPONSABLE   \n",
       "\n",
       "                                       taskName       status  \n",
       "0                  Prototypage de l'application     FINISHED  \n",
       "0  Design des bases de données de l'application  IN_PROGRESS  \n",
       "0                            Mise en production    SCHEDULED  "
      ]
     },
     "execution_count": 23,
     "metadata": {},
     "output_type": "execute_result"
    }
   ],
   "source": [
    "emp_task_list"
   ]
  },
  {
   "cell_type": "code",
   "execution_count": 24,
   "metadata": {},
   "outputs": [
    {
     "data": {
      "text/html": [
       "<div>\n",
       "<style scoped>\n",
       "    .dataframe tbody tr th:only-of-type {\n",
       "        vertical-align: middle;\n",
       "    }\n",
       "\n",
       "    .dataframe tbody tr th {\n",
       "        vertical-align: top;\n",
       "    }\n",
       "\n",
       "    .dataframe thead th {\n",
       "        text-align: right;\n",
       "    }\n",
       "</style>\n",
       "<table border=\"1\" class=\"dataframe\">\n",
       "  <thead>\n",
       "    <tr style=\"text-align: right;\">\n",
       "      <th></th>\n",
       "      <th>employeeId</th>\n",
       "      <th>total_tasks</th>\n",
       "      <th>finished_tasks</th>\n",
       "      <th>ratio_finished</th>\n",
       "      <th>lastName</th>\n",
       "      <th>firstName</th>\n",
       "      <th>role</th>\n",
       "    </tr>\n",
       "  </thead>\n",
       "  <tbody>\n",
       "    <tr>\n",
       "      <th>0</th>\n",
       "      <td>6</td>\n",
       "      <td>3</td>\n",
       "      <td>1</td>\n",
       "      <td>0.333333</td>\n",
       "      <td>CISSE</td>\n",
       "      <td>Alassane</td>\n",
       "      <td>RESPONSABLE</td>\n",
       "    </tr>\n",
       "  </tbody>\n",
       "</table>\n",
       "</div>"
      ],
      "text/plain": [
       "   employeeId  total_tasks  finished_tasks  ratio_finished lastName firstName  \\\n",
       "0           6            3               1        0.333333    CISSE  Alassane   \n",
       "\n",
       "          role  \n",
       "0  RESPONSABLE  "
      ]
     },
     "execution_count": 24,
     "metadata": {},
     "output_type": "execute_result"
    }
   ],
   "source": [
    "# compute total number of tasks per employee\n",
    "total_tasks = emp_task_list.groupby('employeeId')['taskId'].count()\n",
    "# compute number of finished tasks per employee\n",
    "finished_tasks = emp_task_list[emp_task_list['status'] == 'FINISHED'].groupby('employeeId')['taskId'].count()\n",
    "# compute ratio of finished tasks per employee\n",
    "ratio_finished = finished_tasks / total_tasks\n",
    "# merge the three results into a single DataFrame\n",
    "result = pd.concat([total_tasks, finished_tasks, ratio_finished], axis=1)\n",
    "result.columns = ['total_tasks', 'finished_tasks', 'ratio_finished']\n",
    "result.reset_index(inplace=True)\n",
    "\n",
    "pd.merge(left=result, right=emp_task_list.groupby(\"employeeId\")[[\"lastName\",\"firstName\",\"role\"]].first().reset_index(), how='left')"
   ]
  },
  {
   "cell_type": "code",
   "execution_count": null,
   "metadata": {},
   "outputs": [],
   "source": []
  }
 ],
 "metadata": {
  "kernelspec": {
   "display_name": ".venv",
   "language": "python",
   "name": "python3"
  },
  "language_info": {
   "codemirror_mode": {
    "name": "ipython",
    "version": 3
   },
   "file_extension": ".py",
   "mimetype": "text/x-python",
   "name": "python",
   "nbconvert_exporter": "python",
   "pygments_lexer": "ipython3",
   "version": "3.8.10"
  },
  "orig_nbformat": 4
 },
 "nbformat": 4,
 "nbformat_minor": 2
}
