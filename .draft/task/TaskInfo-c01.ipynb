{
 "cells": [
  {
   "cell_type": "code",
   "execution_count": 77,
   "metadata": {},
   "outputs": [],
   "source": [
    "import requests\n",
    "import numpy as np\n",
    "import pandas as pd\n",
    "%run ../employee/links.ipynb"
   ]
  },
  {
   "cell_type": "code",
   "execution_count": 78,
   "metadata": {},
   "outputs": [],
   "source": [
    "# req = requests.get(links_ns.taskrole.task+\"4\").json() # Risk of empty list\n",
    "req = requests.get(links_ns.task.project+\"4\").json() # Risk of empty list\n",
    "task = pd.json_normalize(req)\n"
   ]
  },
  {
   "cell_type": "code",
   "execution_count": 79,
   "metadata": {},
   "outputs": [
    {
     "data": {
      "text/html": [
       "<div>\n",
       "<style scoped>\n",
       "    .dataframe tbody tr th:only-of-type {\n",
       "        vertical-align: middle;\n",
       "    }\n",
       "\n",
       "    .dataframe tbody tr th {\n",
       "        vertical-align: top;\n",
       "    }\n",
       "\n",
       "    .dataframe thead th {\n",
       "        text-align: right;\n",
       "    }\n",
       "</style>\n",
       "<table border=\"1\" class=\"dataframe\">\n",
       "  <thead>\n",
       "    <tr style=\"text-align: right;\">\n",
       "      <th></th>\n",
       "    </tr>\n",
       "  </thead>\n",
       "  <tbody>\n",
       "  </tbody>\n",
       "</table>\n",
       "</div>"
      ],
      "text/plain": [
       "Empty DataFrame\n",
       "Columns: []\n",
       "Index: []"
      ]
     },
     "execution_count": 79,
     "metadata": {},
     "output_type": "execute_result"
    }
   ],
   "source": [
    "task"
   ]
  },
  {
   "attachments": {},
   "cell_type": "markdown",
   "metadata": {},
   "source": [
    "### 1.Task bio data"
   ]
  },
  {
   "cell_type": "code",
   "execution_count": 80,
   "metadata": {},
   "outputs": [
    {
     "data": {
      "text/plain": [
       "[{'taskId': 4,\n",
       "  'code': '350511A23CB0107',\n",
       "  'name': 'État des lieux du secteur des transports dans les différents districts ',\n",
       "  'type': 'PROJECT',\n",
       "  'startDate': '2023-01-02',\n",
       "  'endDate': '2023-06-30',\n",
       "  'status': 'SCHEDULED',\n",
       "  'progress': None,\n",
       "  'budget': None,\n",
       "  'comment': 'DCSTI',\n",
       "  'project': None}]"
      ]
     },
     "execution_count": 80,
     "metadata": {},
     "output_type": "execute_result"
    }
   ],
   "source": [
    "# Request list of project tasks\n",
    "req = requests.get(links_ns.task.single+\"4\").json() # Risk of empty list or 404\n",
    "task = pd.json_normalize(req)\n",
    "task.to_dict(orient=\"records\")"
   ]
  },
  {
   "attachments": {},
   "cell_type": "markdown",
   "metadata": {},
   "source": [
    "### 2.Project Stats"
   ]
  },
  {
   "cell_type": "code",
   "execution_count": 81,
   "metadata": {},
   "outputs": [
    {
     "data": {
      "text/plain": [
       "{'tasks': 11, 'resources': 0, 'budget': nan}"
      ]
     },
     "execution_count": 81,
     "metadata": {},
     "output_type": "execute_result"
    }
   ],
   "source": [
    "data = dict()\n",
    "data_task = dict()\n",
    "data_resources = dict()\n",
    "\n",
    "id = 42\n",
    "\n",
    "req = requests.get(links_ns.task.project+str(id))\n",
    "if req.status_code == 200 and len(req.json())>0:\n",
    "    task = pd.json_normalize(req.json())\n",
    "    data_task = task\n",
    "    nb_task = task.shape[0] # First value\n",
    "    # For each task compute number of employees involved\n",
    "    nb_emp = list([])\n",
    "    role_tmp = pd.DataFrame()\n",
    "    for taskId in task.taskId:\n",
    "        req = requests.get(links_ns.taskrole.task+str(taskId)).json() # Risk of empty list\n",
    "        if len(req)>0:\n",
    "            role = pd.json_normalize(req)\n",
    "            role_tmp = pd.concat([role_tmp, role])\n",
    "            nb_emp.append(role[\"position.positionId\"].values)\n",
    "    data_resources = role_tmp\n",
    "    if len(nb_emp)>0:\n",
    "        nb_emp = len(set(np.concatenate(nb_emp))) # Second value\n",
    "    else: nb_emp=0\n",
    "    # Project budget\n",
    "    req = requests.get(links_ns.task.single+str(id)).json() # Risk of empty list\n",
    "    task = pd.json_normalize(req)\n",
    "    budget = task.budget.max()\n",
    "    data = {\"tasks\":nb_task,\"resources\":nb_emp,\"budget\":budget}\n",
    "    # print(nb_task, nb_emp, budget)\n",
    "else: # retuen empty dict\n",
    "    data = {\"tasks\":0,\"resources\":0,\"budget\":0}\n",
    "data"
   ]
  },
  {
   "attachments": {},
   "cell_type": "markdown",
   "metadata": {},
   "source": [
    "### 3. Activity List"
   ]
  },
  {
   "cell_type": "code",
   "execution_count": 82,
   "metadata": {},
   "outputs": [
    {
     "data": {
      "text/html": [
       "<div>\n",
       "<style scoped>\n",
       "    .dataframe tbody tr th:only-of-type {\n",
       "        vertical-align: middle;\n",
       "    }\n",
       "\n",
       "    .dataframe tbody tr th {\n",
       "        vertical-align: top;\n",
       "    }\n",
       "\n",
       "    .dataframe thead th {\n",
       "        text-align: right;\n",
       "    }\n",
       "</style>\n",
       "<table border=\"1\" class=\"dataframe\">\n",
       "  <thead>\n",
       "    <tr style=\"text-align: right;\">\n",
       "      <th></th>\n",
       "      <th>tasks</th>\n",
       "      <th>resources</th>\n",
       "      <th>budget</th>\n",
       "    </tr>\n",
       "  </thead>\n",
       "  <tbody>\n",
       "    <tr>\n",
       "      <th>0</th>\n",
       "      <td>11</td>\n",
       "      <td>0</td>\n",
       "      <td>NaN</td>\n",
       "    </tr>\n",
       "  </tbody>\n",
       "</table>\n",
       "</div>"
      ],
      "text/plain": [
       "   tasks  resources  budget\n",
       "0     11          0     NaN"
      ]
     },
     "execution_count": 82,
     "metadata": {},
     "output_type": "execute_result"
    }
   ],
   "source": [
    "pd.DataFrame([data])"
   ]
  },
  {
   "cell_type": "code",
   "execution_count": 83,
   "metadata": {},
   "outputs": [
    {
     "data": {
      "text/html": [
       "<div>\n",
       "<style scoped>\n",
       "    .dataframe tbody tr th:only-of-type {\n",
       "        vertical-align: middle;\n",
       "    }\n",
       "\n",
       "    .dataframe tbody tr th {\n",
       "        vertical-align: top;\n",
       "    }\n",
       "\n",
       "    .dataframe thead th {\n",
       "        text-align: right;\n",
       "    }\n",
       "</style>\n",
       "<table border=\"1\" class=\"dataframe\">\n",
       "  <thead>\n",
       "    <tr style=\"text-align: right;\">\n",
       "      <th></th>\n",
       "      <th>taskId</th>\n",
       "      <th>code</th>\n",
       "      <th>name</th>\n",
       "      <th>type</th>\n",
       "      <th>status</th>\n",
       "      <th>endDate</th>\n",
       "      <th>role</th>\n",
       "      <th>employeeId</th>\n",
       "      <th>firstName</th>\n",
       "      <th>lastName</th>\n",
       "    </tr>\n",
       "  </thead>\n",
       "  <tbody>\n",
       "    <tr>\n",
       "      <th>0</th>\n",
       "      <td>79.0</td>\n",
       "      <td>110306A23CB0067</td>\n",
       "      <td>Achat de 7 véhicules de fonction</td>\n",
       "      <td>ACTIVITY</td>\n",
       "      <td>SCHEDULED</td>\n",
       "      <td>2023-12-29</td>\n",
       "      <td>NaN</td>\n",
       "      <td>NaN</td>\n",
       "      <td>NaN</td>\n",
       "      <td>NaN</td>\n",
       "    </tr>\n",
       "    <tr>\n",
       "      <th>1</th>\n",
       "      <td>80.0</td>\n",
       "      <td>110303A23CB0064</td>\n",
       "      <td>Construction batiemets annexes siège</td>\n",
       "      <td>ACTIVITY</td>\n",
       "      <td>SCHEDULED</td>\n",
       "      <td>2023-03-31</td>\n",
       "      <td>NaN</td>\n",
       "      <td>NaN</td>\n",
       "      <td>NaN</td>\n",
       "      <td>NaN</td>\n",
       "    </tr>\n",
       "    <tr>\n",
       "      <th>2</th>\n",
       "      <td>81.0</td>\n",
       "      <td>110334A23CB0095</td>\n",
       "      <td>Formations DMGP</td>\n",
       "      <td>ACTIVITY</td>\n",
       "      <td>SCHEDULED</td>\n",
       "      <td>2023-12-29</td>\n",
       "      <td>NaN</td>\n",
       "      <td>NaN</td>\n",
       "      <td>NaN</td>\n",
       "      <td>NaN</td>\n",
       "    </tr>\n",
       "    <tr>\n",
       "      <th>3</th>\n",
       "      <td>82.0</td>\n",
       "      <td>110307A23CB0068</td>\n",
       "      <td>Projet d'aquisition du local bureau Bouaké</td>\n",
       "      <td>ACTIVITY</td>\n",
       "      <td>SCHEDULED</td>\n",
       "      <td>2023-06-02</td>\n",
       "      <td>NaN</td>\n",
       "      <td>NaN</td>\n",
       "      <td>NaN</td>\n",
       "      <td>NaN</td>\n",
       "    </tr>\n",
       "    <tr>\n",
       "      <th>4</th>\n",
       "      <td>83.0</td>\n",
       "      <td>110310A23CB0071</td>\n",
       "      <td>Projet d'aquisition du local bureau Korhogo</td>\n",
       "      <td>ACTIVITY</td>\n",
       "      <td>SCHEDULED</td>\n",
       "      <td>2024-01-31</td>\n",
       "      <td>NaN</td>\n",
       "      <td>NaN</td>\n",
       "      <td>NaN</td>\n",
       "      <td>NaN</td>\n",
       "    </tr>\n",
       "    <tr>\n",
       "      <th>5</th>\n",
       "      <td>84.0</td>\n",
       "      <td>110308A23CB0069</td>\n",
       "      <td>Projet d'aquisition du local bureau SP</td>\n",
       "      <td>ACTIVITY</td>\n",
       "      <td>SCHEDULED</td>\n",
       "      <td>2023-06-02</td>\n",
       "      <td>NaN</td>\n",
       "      <td>NaN</td>\n",
       "      <td>NaN</td>\n",
       "      <td>NaN</td>\n",
       "    </tr>\n",
       "    <tr>\n",
       "      <th>6</th>\n",
       "      <td>85.0</td>\n",
       "      <td>110309A23CB0070</td>\n",
       "      <td>Projet d'aquisition du local bureau Yakro</td>\n",
       "      <td>ACTIVITY</td>\n",
       "      <td>SCHEDULED</td>\n",
       "      <td>2024-01-31</td>\n",
       "      <td>NaN</td>\n",
       "      <td>NaN</td>\n",
       "      <td>NaN</td>\n",
       "      <td>NaN</td>\n",
       "    </tr>\n",
       "    <tr>\n",
       "      <th>7</th>\n",
       "      <td>86.0</td>\n",
       "      <td>110301A23CB0062</td>\n",
       "      <td>Projet d'aquisition du siège</td>\n",
       "      <td>ACTIVITY</td>\n",
       "      <td>SCHEDULED</td>\n",
       "      <td>2023-12-29</td>\n",
       "      <td>NaN</td>\n",
       "      <td>NaN</td>\n",
       "      <td>NaN</td>\n",
       "      <td>NaN</td>\n",
       "    </tr>\n",
       "    <tr>\n",
       "      <th>8</th>\n",
       "      <td>115.0</td>\n",
       "      <td>110835A23CB0035</td>\n",
       "      <td>Activité 7.2.2 : Elaboration du cadre organiqu...</td>\n",
       "      <td>ACTIVITY</td>\n",
       "      <td>SCHEDULED</td>\n",
       "      <td>2023-01-20</td>\n",
       "      <td>NaN</td>\n",
       "      <td>NaN</td>\n",
       "      <td>NaN</td>\n",
       "      <td>NaN</td>\n",
       "    </tr>\n",
       "    <tr>\n",
       "      <th>9</th>\n",
       "      <td>116.0</td>\n",
       "      <td>110836A23CB0036</td>\n",
       "      <td>Activité 7.2.3 : Elaboration d'un manuel de pr...</td>\n",
       "      <td>ACTIVITY</td>\n",
       "      <td>SCHEDULED</td>\n",
       "      <td>2023-01-31</td>\n",
       "      <td>NaN</td>\n",
       "      <td>NaN</td>\n",
       "      <td>NaN</td>\n",
       "      <td>NaN</td>\n",
       "    </tr>\n",
       "    <tr>\n",
       "      <th>10</th>\n",
       "      <td>117.0</td>\n",
       "      <td>110837A23CB0037</td>\n",
       "      <td>Activité 7.2.4 : Elaboration des canevas des o...</td>\n",
       "      <td>ACTIVITY</td>\n",
       "      <td>SCHEDULED</td>\n",
       "      <td>2023-01-31</td>\n",
       "      <td>NaN</td>\n",
       "      <td>NaN</td>\n",
       "      <td>NaN</td>\n",
       "      <td>NaN</td>\n",
       "    </tr>\n",
       "  </tbody>\n",
       "</table>\n",
       "</div>"
      ],
      "text/plain": [
       "    taskId             code  \\\n",
       "0     79.0  110306A23CB0067   \n",
       "1     80.0  110303A23CB0064   \n",
       "2     81.0  110334A23CB0095   \n",
       "3     82.0  110307A23CB0068   \n",
       "4     83.0  110310A23CB0071   \n",
       "5     84.0  110308A23CB0069   \n",
       "6     85.0  110309A23CB0070   \n",
       "7     86.0  110301A23CB0062   \n",
       "8    115.0  110835A23CB0035   \n",
       "9    116.0  110836A23CB0036   \n",
       "10   117.0  110837A23CB0037   \n",
       "\n",
       "                                                 name      type     status  \\\n",
       "0                    Achat de 7 véhicules de fonction  ACTIVITY  SCHEDULED   \n",
       "1                Construction batiemets annexes siège  ACTIVITY  SCHEDULED   \n",
       "2                                     Formations DMGP  ACTIVITY  SCHEDULED   \n",
       "3          Projet d'aquisition du local bureau Bouaké  ACTIVITY  SCHEDULED   \n",
       "4         Projet d'aquisition du local bureau Korhogo  ACTIVITY  SCHEDULED   \n",
       "5              Projet d'aquisition du local bureau SP  ACTIVITY  SCHEDULED   \n",
       "6           Projet d'aquisition du local bureau Yakro  ACTIVITY  SCHEDULED   \n",
       "7                        Projet d'aquisition du siège  ACTIVITY  SCHEDULED   \n",
       "8   Activité 7.2.2 : Elaboration du cadre organiqu...  ACTIVITY  SCHEDULED   \n",
       "9   Activité 7.2.3 : Elaboration d'un manuel de pr...  ACTIVITY  SCHEDULED   \n",
       "10  Activité 7.2.4 : Elaboration des canevas des o...  ACTIVITY  SCHEDULED   \n",
       "\n",
       "       endDate role employeeId firstName lastName  \n",
       "0   2023-12-29  NaN        NaN       NaN      NaN  \n",
       "1   2023-03-31  NaN        NaN       NaN      NaN  \n",
       "2   2023-12-29  NaN        NaN       NaN      NaN  \n",
       "3   2023-06-02  NaN        NaN       NaN      NaN  \n",
       "4   2024-01-31  NaN        NaN       NaN      NaN  \n",
       "5   2023-06-02  NaN        NaN       NaN      NaN  \n",
       "6   2024-01-31  NaN        NaN       NaN      NaN  \n",
       "7   2023-12-29  NaN        NaN       NaN      NaN  \n",
       "8   2023-01-20  NaN        NaN       NaN      NaN  \n",
       "9   2023-01-31  NaN        NaN       NaN      NaN  \n",
       "10  2023-01-31  NaN        NaN       NaN      NaN  "
      ]
     },
     "execution_count": 83,
     "metadata": {},
     "output_type": "execute_result"
    }
   ],
   "source": [
    "\n",
    "resources_col = dict({\n",
    "    \"role\":None,\n",
    "    \"task.taskId\":None,\n",
    "    \"position.employee.employeeId\":None,\n",
    "    \"position.employee.firstName\":None,\n",
    "    \"position.employee.lastName\":None\n",
    "})\n",
    "\n",
    "df = pd.DataFrame()\n",
    "tasks_df = data_task[[\"taskId\",\"code\",\"name\",\"type\",\"status\",\"endDate\"]].copy()\n",
    "\n",
    "if data_resources.shape[0]==0:\n",
    "    resources_df = pd.DataFrame([resources_col])\n",
    "    df = pd.concat([tasks_df, resources_df])\n",
    "\n",
    "#df = pd.merge(left=tasks_df, right=resources_df, left_on=\"taskId\", right_on=\"task.taskId\")\n",
    "df.drop(columns=[\"task.taskId\"], inplace=True)\n",
    "rename_col = [\"taskId\",\"code\",\"name\",\"type\",\"status\",\"endDate\",\"role\",\"employeeId\",\"firstName\",\"lastName\"]\n",
    "df.columns = rename_col\n",
    "df.reset_index(inplace=True, drop=[\"index\"])\n",
    "df = df.drop(df.index[-1])\n",
    "df"
   ]
  },
  {
   "attachments": {},
   "cell_type": "markdown",
   "metadata": {},
   "source": [
    "### 1.4 Resources list"
   ]
  },
  {
   "cell_type": "code",
   "execution_count": 84,
   "metadata": {},
   "outputs": [
    {
     "ename": "KeyError",
     "evalue": "\"None of [Index(['task.taskId', 'position.employee.employeeId',\\n       'position.employee.lastName', 'position.employee.firstName', 'role',\\n       'task.name', 'task.status'],\\n      dtype='object')] are in the [columns]\"",
     "output_type": "error",
     "traceback": [
      "\u001b[0;31m---------------------------------------------------------------------------\u001b[0m",
      "\u001b[0;31mKeyError\u001b[0m                                  Traceback (most recent call last)",
      "Cell \u001b[0;32mIn[84], line 1\u001b[0m\n\u001b[0;32m----> 1\u001b[0m emp_task_list \u001b[39m=\u001b[39m data_resources[[\u001b[39m\"\u001b[39;49m\u001b[39mtask.taskId\u001b[39;49m\u001b[39m\"\u001b[39;49m,\u001b[39m\"\u001b[39;49m\u001b[39mposition.employee.employeeId\u001b[39;49m\u001b[39m\"\u001b[39;49m,\u001b[39m\"\u001b[39;49m\u001b[39mposition.employee.lastName\u001b[39;49m\u001b[39m\"\u001b[39;49m,\u001b[39m\"\u001b[39;49m\u001b[39mposition.employee.firstName\u001b[39;49m\u001b[39m\"\u001b[39;49m,\u001b[39m\"\u001b[39;49m\u001b[39mrole\u001b[39;49m\u001b[39m\"\u001b[39;49m,\u001b[39m\"\u001b[39;49m\u001b[39mtask.name\u001b[39;49m\u001b[39m\"\u001b[39;49m,\u001b[39m\"\u001b[39;49m\u001b[39mtask.status\u001b[39;49m\u001b[39m\"\u001b[39;49m]]\n\u001b[1;32m      2\u001b[0m rename_col \u001b[39m=\u001b[39m [\u001b[39m\"\u001b[39m\u001b[39mtaskId\u001b[39m\u001b[39m\"\u001b[39m,\u001b[39m\"\u001b[39m\u001b[39memployeeId\u001b[39m\u001b[39m\"\u001b[39m,\u001b[39m\"\u001b[39m\u001b[39mlastName\u001b[39m\u001b[39m\"\u001b[39m,\u001b[39m\"\u001b[39m\u001b[39mfirstName\u001b[39m\u001b[39m\"\u001b[39m,\u001b[39m\"\u001b[39m\u001b[39mrole\u001b[39m\u001b[39m\"\u001b[39m,\u001b[39m\"\u001b[39m\u001b[39mtaskName\u001b[39m\u001b[39m\"\u001b[39m,\u001b[39m\"\u001b[39m\u001b[39mstatus\u001b[39m\u001b[39m\"\u001b[39m]\n\u001b[1;32m      3\u001b[0m emp_task_list\u001b[39m.\u001b[39mcolumns \u001b[39m=\u001b[39m rename_col\n",
      "File \u001b[0;32m~/arti/orionmiddle/.venv/lib/python3.8/site-packages/pandas/core/frame.py:3813\u001b[0m, in \u001b[0;36mDataFrame.__getitem__\u001b[0;34m(self, key)\u001b[0m\n\u001b[1;32m   3811\u001b[0m     \u001b[39mif\u001b[39;00m is_iterator(key):\n\u001b[1;32m   3812\u001b[0m         key \u001b[39m=\u001b[39m \u001b[39mlist\u001b[39m(key)\n\u001b[0;32m-> 3813\u001b[0m     indexer \u001b[39m=\u001b[39m \u001b[39mself\u001b[39;49m\u001b[39m.\u001b[39;49mcolumns\u001b[39m.\u001b[39;49m_get_indexer_strict(key, \u001b[39m\"\u001b[39;49m\u001b[39mcolumns\u001b[39;49m\u001b[39m\"\u001b[39;49m)[\u001b[39m1\u001b[39m]\n\u001b[1;32m   3815\u001b[0m \u001b[39m# take() does not accept boolean indexers\u001b[39;00m\n\u001b[1;32m   3816\u001b[0m \u001b[39mif\u001b[39;00m \u001b[39mgetattr\u001b[39m(indexer, \u001b[39m\"\u001b[39m\u001b[39mdtype\u001b[39m\u001b[39m\"\u001b[39m, \u001b[39mNone\u001b[39;00m) \u001b[39m==\u001b[39m \u001b[39mbool\u001b[39m:\n",
      "File \u001b[0;32m~/arti/orionmiddle/.venv/lib/python3.8/site-packages/pandas/core/indexes/base.py:6070\u001b[0m, in \u001b[0;36mIndex._get_indexer_strict\u001b[0;34m(self, key, axis_name)\u001b[0m\n\u001b[1;32m   6067\u001b[0m \u001b[39melse\u001b[39;00m:\n\u001b[1;32m   6068\u001b[0m     keyarr, indexer, new_indexer \u001b[39m=\u001b[39m \u001b[39mself\u001b[39m\u001b[39m.\u001b[39m_reindex_non_unique(keyarr)\n\u001b[0;32m-> 6070\u001b[0m \u001b[39mself\u001b[39;49m\u001b[39m.\u001b[39;49m_raise_if_missing(keyarr, indexer, axis_name)\n\u001b[1;32m   6072\u001b[0m keyarr \u001b[39m=\u001b[39m \u001b[39mself\u001b[39m\u001b[39m.\u001b[39mtake(indexer)\n\u001b[1;32m   6073\u001b[0m \u001b[39mif\u001b[39;00m \u001b[39misinstance\u001b[39m(key, Index):\n\u001b[1;32m   6074\u001b[0m     \u001b[39m# GH 42790 - Preserve name from an Index\u001b[39;00m\n",
      "File \u001b[0;32m~/arti/orionmiddle/.venv/lib/python3.8/site-packages/pandas/core/indexes/base.py:6130\u001b[0m, in \u001b[0;36mIndex._raise_if_missing\u001b[0;34m(self, key, indexer, axis_name)\u001b[0m\n\u001b[1;32m   6128\u001b[0m     \u001b[39mif\u001b[39;00m use_interval_msg:\n\u001b[1;32m   6129\u001b[0m         key \u001b[39m=\u001b[39m \u001b[39mlist\u001b[39m(key)\n\u001b[0;32m-> 6130\u001b[0m     \u001b[39mraise\u001b[39;00m \u001b[39mKeyError\u001b[39;00m(\u001b[39mf\u001b[39m\u001b[39m\"\u001b[39m\u001b[39mNone of [\u001b[39m\u001b[39m{\u001b[39;00mkey\u001b[39m}\u001b[39;00m\u001b[39m] are in the [\u001b[39m\u001b[39m{\u001b[39;00maxis_name\u001b[39m}\u001b[39;00m\u001b[39m]\u001b[39m\u001b[39m\"\u001b[39m)\n\u001b[1;32m   6132\u001b[0m not_found \u001b[39m=\u001b[39m \u001b[39mlist\u001b[39m(ensure_index(key)[missing_mask\u001b[39m.\u001b[39mnonzero()[\u001b[39m0\u001b[39m]]\u001b[39m.\u001b[39munique())\n\u001b[1;32m   6133\u001b[0m \u001b[39mraise\u001b[39;00m \u001b[39mKeyError\u001b[39;00m(\u001b[39mf\u001b[39m\u001b[39m\"\u001b[39m\u001b[39m{\u001b[39;00mnot_found\u001b[39m}\u001b[39;00m\u001b[39m not in index\u001b[39m\u001b[39m\"\u001b[39m)\n",
      "\u001b[0;31mKeyError\u001b[0m: \"None of [Index(['task.taskId', 'position.employee.employeeId',\\n       'position.employee.lastName', 'position.employee.firstName', 'role',\\n       'task.name', 'task.status'],\\n      dtype='object')] are in the [columns]\""
     ]
    }
   ],
   "source": [
    "emp_task_list = data_resources[[\"task.taskId\",\"position.employee.employeeId\",\"position.employee.lastName\",\"position.employee.firstName\",\"role\",\"task.name\",\"task.status\"]]\n",
    "rename_col = [\"taskId\",\"employeeId\",\"lastName\",\"firstName\",\"role\",\"taskName\",\"status\"]\n",
    "emp_task_list.columns = rename_col\n",
    "#emp_task_list"
   ]
  },
  {
   "cell_type": "code",
   "execution_count": null,
   "metadata": {},
   "outputs": [],
   "source": [
    "emp_task_list"
   ]
  },
  {
   "cell_type": "code",
   "execution_count": null,
   "metadata": {},
   "outputs": [],
   "source": [
    "# compute total number of tasks per employee\n",
    "total_tasks = emp_task_list.groupby('employeeId')['taskId'].count()\n",
    "# compute number of finished tasks per employee\n",
    "finished_tasks = emp_task_list[emp_task_list['status'] == 'FINISHED'].groupby('employeeId')['taskId'].count()\n",
    "# compute ratio of finished tasks per employee\n",
    "ratio_finished = finished_tasks / total_tasks\n",
    "# merge the three results into a single DataFrame\n",
    "result = pd.concat([total_tasks, finished_tasks, ratio_finished], axis=1)\n",
    "result.columns = ['total_tasks', 'finished_tasks', 'ratio_finished']\n",
    "result.reset_index(inplace=True)\n",
    "\n",
    "pd.merge(left=result, right=emp_task_list.groupby(\"employeeId\")[[\"lastName\",\"firstName\",\"role\"]].first().reset_index(), how='left')"
   ]
  },
  {
   "cell_type": "code",
   "execution_count": null,
   "metadata": {},
   "outputs": [],
   "source": []
  }
 ],
 "metadata": {
  "kernelspec": {
   "display_name": ".venv",
   "language": "python",
   "name": "python3"
  },
  "language_info": {
   "codemirror_mode": {
    "name": "ipython",
    "version": 3
   },
   "file_extension": ".py",
   "mimetype": "text/x-python",
   "name": "python",
   "nbconvert_exporter": "python",
   "pygments_lexer": "ipython3",
   "version": "3.8.10"
  },
  "orig_nbformat": 4
 },
 "nbformat": 4,
 "nbformat_minor": 2
}
