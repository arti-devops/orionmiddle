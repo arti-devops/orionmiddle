{
 "cells": [
  {
   "cell_type": "code",
   "execution_count": 71,
   "metadata": {},
   "outputs": [],
   "source": [
    "import requests\n",
    "import pandas as pd\n",
    "%run ../employee/links.ipynb"
   ]
  },
  {
   "cell_type": "code",
   "execution_count": 72,
   "metadata": {},
   "outputs": [],
   "source": [
    "req = requests.get(links_ns.task.all).json() # Risk of empty list\n",
    "projects = pd.json_normalize(req)"
   ]
  },
  {
   "cell_type": "code",
   "execution_count": 73,
   "metadata": {},
   "outputs": [],
   "source": [
    "df = projects[[\"code\",\"status\"]].copy()"
   ]
  },
  {
   "cell_type": "code",
   "execution_count": 75,
   "metadata": {},
   "outputs": [
    {
     "data": {
      "text/plain": [
       "'[{\"status\":\"TOTAL\",\"count\":10,\"percent\":100.0},{\"status\":\"IN_PROGRESS\",\"count\":4,\"percent\":40.0},{\"status\":\"FINISHED\",\"count\":4,\"percent\":40.0},{\"status\":\"SCHEDULED\",\"count\":2,\"percent\":20.0}]'"
      ]
     },
     "execution_count": 75,
     "metadata": {},
     "output_type": "execute_result"
    }
   ],
   "source": [
    "grouped = df.groupby(\"status\").count()\n",
    "total_count = df.shape[0]\n",
    "grouped[\"percent\"] = (grouped/total_count)*100\n",
    "grouped['percent'] = grouped['percent'].round(2)\n",
    "grouped.rename(columns={\"code\":\"count\"}, inplace=True)\n",
    "grouped.reset_index(inplace=True)\n",
    "\n",
    "total = pd.DataFrame(index=[4],data={\"status\":\"TOTAL\",\"count\":total_count,\"percent\":100})\n",
    "grouped = pd.concat([grouped,total])\n",
    "\n",
    "custom_order = [\"TOTAL\",'IN_PROGRESS', 'FINISHED', 'SCHEDULED',\"FAILED\"]\n",
    "grouped = grouped.sort_values(by='status', key=lambda x: x.map({status: i for i, status in enumerate(custom_order)}))\n",
    "\n",
    "grouped = grouped.to_json(orient=\"records\")\n",
    "grouped"
   ]
  },
  {
   "cell_type": "code",
   "execution_count": null,
   "metadata": {},
   "outputs": [],
   "source": []
  }
 ],
 "metadata": {
  "kernelspec": {
   "display_name": ".venv",
   "language": "python",
   "name": "python3"
  },
  "language_info": {
   "codemirror_mode": {
    "name": "ipython",
    "version": 3
   },
   "file_extension": ".py",
   "mimetype": "text/x-python",
   "name": "python",
   "nbconvert_exporter": "python",
   "pygments_lexer": "ipython3",
   "version": "3.10.6"
  },
  "orig_nbformat": 4
 },
 "nbformat": 4,
 "nbformat_minor": 2
}
