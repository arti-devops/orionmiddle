{
 "cells": [
  {
   "cell_type": "code",
   "execution_count": 7,
   "metadata": {},
   "outputs": [],
   "source": [
    "from datetime import datetime, timedelta\n",
    "\n",
    "def get_first_and_last_date_of_month(date_string):\n",
    "    date = datetime.strptime(date_string, '%Y-%m-%d')\n",
    "    first_date = datetime(date.year, date.month, 1)\n",
    "    last_date = datetime(date.year, date.month, 1) + timedelta(days=31)\n",
    "    last_date = last_date - timedelta(days=last_date.day)\n",
    "\n",
    "    return first_date.strftime(\"%Y-%m-%d\"), last_date.strftime(\"%Y-%m-%d\")"
   ]
  },
  {
   "cell_type": "code",
   "execution_count": 8,
   "metadata": {},
   "outputs": [
    {
     "data": {
      "text/plain": [
       "('2023-02-01', '2023-02-28')"
      ]
     },
     "execution_count": 8,
     "metadata": {},
     "output_type": "execute_result"
    }
   ],
   "source": [
    "get_first_and_last_date_of_month(\"2023-02-23\")"
   ]
  }
 ],
 "metadata": {
  "kernelspec": {
   "display_name": ".venv",
   "language": "python",
   "name": "python3"
  },
  "language_info": {
   "codemirror_mode": {
    "name": "ipython",
    "version": 3
   },
   "file_extension": ".py",
   "mimetype": "text/x-python",
   "name": "python",
   "nbconvert_exporter": "python",
   "pygments_lexer": "ipython3",
   "version": "3.10.6"
  },
  "orig_nbformat": 4
 },
 "nbformat": 4,
 "nbformat_minor": 2
}
