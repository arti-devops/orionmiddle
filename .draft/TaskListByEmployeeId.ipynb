{
 "cells": [
  {
   "attachments": {},
   "cell_type": "markdown",
   "metadata": {},
   "source": [
    "# Load employee tasks"
   ]
  },
  {
   "cell_type": "code",
   "execution_count": 71,
   "metadata": {},
   "outputs": [],
   "source": [
    "# Import links namespace\n",
    "%run ./links.ipynb"
   ]
  },
  {
   "cell_type": "code",
   "execution_count": 72,
   "metadata": {},
   "outputs": [],
   "source": [
    "import pandas as pd\n",
    "import requests"
   ]
  },
  {
   "cell_type": "code",
   "execution_count": 73,
   "metadata": {},
   "outputs": [],
   "source": [
    "link_to_emp_tasks = links_ns.taskrole.position+'6'\n",
    "emp_tasks = requests.get(link_to_emp_tasks).json()\n",
    "\n",
    "df = pd.json_normalize(emp_tasks)\n",
    "select_cols = [\"task.taskId\",\"task.name\",\"task.code\",\"role\",\"task.startDate\",\"task.endDate\",\"task.status\"]\n",
    "df = df[select_cols]\n",
    "rename_cols = [\"id\",\"name\",\"code\",\"role\",\"startDate\",\"endDate\",\"status\"]\n",
    "\n",
    "df.columns = rename_cols"
   ]
  },
  {
   "cell_type": "code",
   "execution_count": 74,
   "metadata": {},
   "outputs": [
    {
     "data": {
      "text/html": [
       "<div>\n",
       "<style scoped>\n",
       "    .dataframe tbody tr th:only-of-type {\n",
       "        vertical-align: middle;\n",
       "    }\n",
       "\n",
       "    .dataframe tbody tr th {\n",
       "        vertical-align: top;\n",
       "    }\n",
       "\n",
       "    .dataframe thead th {\n",
       "        text-align: right;\n",
       "    }\n",
       "</style>\n",
       "<table border=\"1\" class=\"dataframe\">\n",
       "  <thead>\n",
       "    <tr style=\"text-align: right;\">\n",
       "      <th></th>\n",
       "      <th>id</th>\n",
       "      <th>name</th>\n",
       "      <th>code</th>\n",
       "      <th>role</th>\n",
       "      <th>startDate</th>\n",
       "      <th>endDate</th>\n",
       "      <th>status</th>\n",
       "    </tr>\n",
       "  </thead>\n",
       "  <tbody>\n",
       "    <tr>\n",
       "      <th>0</th>\n",
       "      <td>4</td>\n",
       "      <td>Application de suivi-évaluation des activités ...</td>\n",
       "      <td>A-01-23</td>\n",
       "      <td>ACCOUNTABLE</td>\n",
       "      <td>2023-01-02</td>\n",
       "      <td>2023-05-31</td>\n",
       "      <td>IN_PROGRESS</td>\n",
       "    </tr>\n",
       "    <tr>\n",
       "      <th>1</th>\n",
       "      <td>8</td>\n",
       "      <td>Prototypage de l'application</td>\n",
       "      <td>A-03-23</td>\n",
       "      <td>RESPONSABLE</td>\n",
       "      <td>2023-01-03</td>\n",
       "      <td>2023-02-22</td>\n",
       "      <td>FINISHED</td>\n",
       "    </tr>\n",
       "    <tr>\n",
       "      <th>2</th>\n",
       "      <td>9</td>\n",
       "      <td>Design des bases de données de l'application</td>\n",
       "      <td>A-04-23</td>\n",
       "      <td>RESPONSABLE</td>\n",
       "      <td>2023-03-20</td>\n",
       "      <td>2023-03-24</td>\n",
       "      <td>IN_PROGRESS</td>\n",
       "    </tr>\n",
       "    <tr>\n",
       "      <th>3</th>\n",
       "      <td>10</td>\n",
       "      <td>Mise en production</td>\n",
       "      <td>A-04-23</td>\n",
       "      <td>RESPONSABLE</td>\n",
       "      <td>2023-04-07</td>\n",
       "      <td>2023-04-15</td>\n",
       "      <td>SCHEDULED</td>\n",
       "    </tr>\n",
       "  </tbody>\n",
       "</table>\n",
       "</div>"
      ],
      "text/plain": [
       "   id                                               name     code   \n",
       "0   4  Application de suivi-évaluation des activités ...  A-01-23  \\\n",
       "1   8                       Prototypage de l'application  A-03-23   \n",
       "2   9       Design des bases de données de l'application  A-04-23   \n",
       "3  10                                 Mise en production  A-04-23   \n",
       "\n",
       "          role   startDate     endDate       status  \n",
       "0  ACCOUNTABLE  2023-01-02  2023-05-31  IN_PROGRESS  \n",
       "1  RESPONSABLE  2023-01-03  2023-02-22     FINISHED  \n",
       "2  RESPONSABLE  2023-03-20  2023-03-24  IN_PROGRESS  \n",
       "3  RESPONSABLE  2023-04-07  2023-04-15    SCHEDULED  "
      ]
     },
     "execution_count": 74,
     "metadata": {},
     "output_type": "execute_result"
    }
   ],
   "source": [
    "df"
   ]
  },
  {
   "cell_type": "code",
   "execution_count": null,
   "metadata": {},
   "outputs": [],
   "source": []
  }
 ],
 "metadata": {
  "kernelspec": {
   "display_name": ".venv",
   "language": "python",
   "name": "python3"
  },
  "language_info": {
   "codemirror_mode": {
    "name": "ipython",
    "version": 3
   },
   "file_extension": ".py",
   "mimetype": "text/x-python",
   "name": "python",
   "nbconvert_exporter": "python",
   "pygments_lexer": "ipython3",
   "version": "3.10.6"
  },
  "orig_nbformat": 4
 },
 "nbformat": 4,
 "nbformat_minor": 2
}
