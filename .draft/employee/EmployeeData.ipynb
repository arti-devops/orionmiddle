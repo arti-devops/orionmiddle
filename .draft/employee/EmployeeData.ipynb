{
 "cells": [
  {
   "cell_type": "code",
   "execution_count": 1,
   "id": "91841306",
   "metadata": {},
   "outputs": [],
   "source": [
    "import json\n",
    "import types\n",
    "import requests"
   ]
  },
  {
   "cell_type": "code",
   "execution_count": 2,
   "id": "cca6e12d",
   "metadata": {},
   "outputs": [],
   "source": [
    "class Namespace:\n",
    "    def __init__(self, adict):\n",
    "        self.__dict__.update(adict)"
   ]
  },
  {
   "cell_type": "code",
   "execution_count": 51,
   "id": "5493da52",
   "metadata": {},
   "outputs": [],
   "source": [
    "base_link = \"http://localhost:8080/api/v1/\"\n",
    "#base_link = \"http://192.168.0.218:8080/api/v1/\""
   ]
  },
  {
   "cell_type": "code",
   "execution_count": 70,
   "id": "81afddd0",
   "metadata": {},
   "outputs": [],
   "source": [
    "links = {\n",
    "    \"position\":Namespace({\n",
    "        \"all\":\"position/all\",\n",
    "        \"all_active\":\"position/all/active\",\n",
    "        \"single\":\"position/\"\n",
    "    }),\n",
    "    \"employee\":Namespace({\n",
    "        \"all\":\"employee/all\",\n",
    "        \"single\":\"employee/\"\n",
    "    }),\n",
    "    \"task\":Namespace({\n",
    "        \"all\":\"task/all\",\n",
    "        \"single\":\"task/\"\n",
    "    }),\n",
    "    \"taskrole\":Namespace({\n",
    "        \"all\":\"taskrole/all\",\n",
    "        \"single\":\"taskrole/\",\n",
    "        \"position\":\"taskrole/position/\"#{p}\n",
    "    }),\n",
    "    \"logbook\":Namespace({\n",
    "        \"all\":\"logbook/all\",\n",
    "        \"range\":\"logbook/range/\", #{s}/{e}\n",
    "        \"prange\":\"logbook/range/\",#{p}/{s}/{e}\n",
    "        \"single\":\"logbook/\"\n",
    "    }),\n",
    "    \"absence\":Namespace({\n",
    "        \"all\":\"absence/all\",\n",
    "        \"prange\":\"absence/range/\",#{p}\n",
    "        \"single\":\"absence/\"\n",
    "    }),\n",
    "    \"evaluation\":Namespace({\n",
    "        \"all\":\"evaluation/all\",\n",
    "        \"single\":\"evaluation/\",\n",
    "        \"position\":\"evaluation/position/\",#{p}\n",
    "    }),\n",
    "    \"course\":Namespace({\n",
    "        \"all\":\"course/all\",\n",
    "        \"single\":\"course/\",\n",
    "        \"position\":\"course/position/\",#{p}\n",
    "    })\n",
    "};links_ns = Namespace(links)"
   ]
  },
  {
   "cell_type": "code",
   "execution_count": 5,
   "id": "76ac7a50",
   "metadata": {},
   "outputs": [],
   "source": [
    "def get_direction_name(p):\n",
    "    p = Namespace(p)\n",
    "    if p.service is not None:\n",
    "        subdiv = p.service[\"subdivision\"]\n",
    "        subdiv = Namespace(subdiv)\n",
    "        if subdiv.direction is not None:\n",
    "            return subdiv.direction[\"shortName\"]\n",
    "        else: return subdiv.shortName\n",
    "    else:\n",
    "        div = p.subdivision[\"direction\"]\n",
    "        if div is not None:\n",
    "            return div[\"shortName\"]\n",
    "        else: return p.subdivision[\"shortName\"]\n",
    "        \n",
    "def get_service_name(p):\n",
    "    p = Namespace(p)\n",
    "    if p.service is not None:\n",
    "        return p.service[\"name\"]\n",
    "    else:\n",
    "        return \"AUCUN\""
   ]
  },
  {
   "cell_type": "code",
   "execution_count": 6,
   "id": "df03e386",
   "metadata": {},
   "outputs": [],
   "source": [
    "def get_employee_bio_data(p):\n",
    "    emp_data_list = list()\n",
    "    positions = [requests.get(base_link+links_ns.position.single+str(p)).json()]\n",
    "    for p in positions:\n",
    "        emp_data = dict()\n",
    "        emp_data[\"position_id\"] = p[\"positionId\"]\n",
    "        emp_data[\"employee_id\"] = p[\"employee\"][\"employeeId\"]\n",
    "        emp_data[\"fullname\"] = p[\"employee\"][\"lastName\"] +\" \"+ p[\"employee\"][\"firstName\"].strip() \n",
    "        emp_data[\"matricula\"] = p[\"employee\"][\"matricule\"]\n",
    "        emp_data[\"rolename\"] = p[\"role\"][\"name\"]\n",
    "        emp_data[\"service\"] = get_service_name(p)\n",
    "        emp_data[\"direction\"] = get_direction_name(p)\n",
    "        emp_data[\"email\"] = p[\"employee\"][\"email\"]\n",
    "        emp_data[\"contact\"] = p[\"employee\"][\"contact\"]\n",
    "        emp_data[\"location\"] = p[\"location\"]\n",
    "        emp_data_list.append(emp_data)\n",
    "    return emp_data_list[0]"
   ]
  },
  {
   "cell_type": "code",
   "execution_count": 7,
   "id": "75d7ee22",
   "metadata": {},
   "outputs": [
    {
     "data": {
      "text/plain": [
       "'http://192.168.0.218:8080/api/v1/position/all/active'"
      ]
     },
     "execution_count": 7,
     "metadata": {},
     "output_type": "execute_result"
    }
   ],
   "source": [
    "requests.get(base_link+links_ns.position.all_active).url"
   ]
  },
  {
   "cell_type": "code",
   "execution_count": 8,
   "id": "13526e91",
   "metadata": {},
   "outputs": [
    {
     "data": {
      "text/plain": [
       "{'position_id': 5,\n",
       " 'employee_id': 5,\n",
       " 'fullname': 'BOKOUA ZIOGBA SEBASTIEN',\n",
       " 'matricula': '1281021B',\n",
       " 'rolename': 'SOUS-DIRECTEUR',\n",
       " 'service': 'AUCUN',\n",
       " 'direction': 'DSESP',\n",
       " 'email': 'sebastien.bokoua@arti.ci',\n",
       " 'contact': '',\n",
       " 'location': 'ABIDJAN'}"
      ]
     },
     "execution_count": 8,
     "metadata": {},
     "output_type": "execute_result"
    }
   ],
   "source": [
    "get_employee_bio_data(5)"
   ]
  },
  {
   "cell_type": "code",
   "execution_count": 9,
   "id": "85fd521e",
   "metadata": {},
   "outputs": [],
   "source": [
    "ov_data = dict({\n",
    "    \"absence\" : dict({\"nb\":0,\"done\":0}),\n",
    "    \"evaluation\" : dict({\"nb\":0,\"done\":0}),\n",
    "    \"activity\" : dict({\"nb\":0,\"done\":0}),\n",
    "    \"training\" : dict({\"nb\":0,\"done\":0})\n",
    "})"
   ]
  },
  {
   "cell_type": "code",
   "execution_count": 10,
   "id": "a3fec877",
   "metadata": {},
   "outputs": [
    {
     "data": {
      "text/plain": [
       "{'absence': {'nb': 0, 'done': 0},\n",
       " 'evaluation': {'nb': 0, 'done': 0},\n",
       " 'activity': {'nb': 0, 'done': 0},\n",
       " 'training': {'nb': 0, 'done': 0}}"
      ]
     },
     "execution_count": 10,
     "metadata": {},
     "output_type": "execute_result"
    }
   ],
   "source": [
    "ov_data"
   ]
  },
  {
   "cell_type": "code",
   "execution_count": 11,
   "id": "5b653b4c",
   "metadata": {},
   "outputs": [],
   "source": [
    "#requests.get(base_link+links_ns.absence.prange+'5/2023-04-01/2023-04-30').json()"
   ]
  },
  {
   "cell_type": "code",
   "execution_count": 12,
   "id": "024190c5",
   "metadata": {},
   "outputs": [
    {
     "data": {
      "text/plain": [
       "{'nb': 3, 'done': 1}"
      ]
     },
     "execution_count": 12,
     "metadata": {},
     "output_type": "execute_result"
    }
   ],
   "source": [
    "def get_absence_data(p:str, s:str, e:str):\n",
    "    req = requests.get(base_link+links_ns.absence.prange+p+'/'+s+'/'+e).json()\n",
    "    nb = len(req)\n",
    "    done = len([1 for x in req if x[\"justified\"]=='yes'])\n",
    "    return dict({\"nb\":nb, \"done\":done})\n",
    "get_absence_data(\"6\",\"2023-04-01\",\"2023-04-30\")"
   ]
  },
  {
   "cell_type": "code",
   "execution_count": 26,
   "id": "28f7158d",
   "metadata": {},
   "outputs": [],
   "source": [
    "emp_task = requests.get(base_link+links_ns.taskrole.position+'6').json()"
   ]
  },
  {
   "cell_type": "code",
   "execution_count": 27,
   "id": "f9cfcfe9",
   "metadata": {},
   "outputs": [
    {
     "data": {
      "text/plain": [
       "4"
      ]
     },
     "execution_count": 27,
     "metadata": {},
     "output_type": "execute_result"
    }
   ],
   "source": [
    "len(emp_task)"
   ]
  },
  {
   "cell_type": "code",
   "execution_count": 39,
   "id": "944b395f",
   "metadata": {},
   "outputs": [],
   "source": [
    "def get_taskrole_status_list(emp_taskrole):\n",
    "    return [x[\"task\"][\"status\"] for x in emp_taskrole]\n",
    "\n",
    "def computer_finished_tasks(status_list):\n",
    "    return len([1 for x in status_list if x==\"FINISHED\"])"
   ]
  },
  {
   "cell_type": "code",
   "execution_count": 40,
   "id": "44ada6d8",
   "metadata": {},
   "outputs": [
    {
     "data": {
      "text/plain": [
       "1"
      ]
     },
     "execution_count": 40,
     "metadata": {},
     "output_type": "execute_result"
    }
   ],
   "source": [
    "computer_finished_tasks(get_taskrole_status_list(emp_task))"
   ]
  },
  {
   "cell_type": "code",
   "execution_count": 50,
   "id": "2ecf94e8",
   "metadata": {},
   "outputs": [
    {
     "data": {
      "text/plain": [
       "{'nb': 4, 'done': 1}"
      ]
     },
     "execution_count": 50,
     "metadata": {},
     "output_type": "execute_result"
    }
   ],
   "source": [
    "def get_task_data(p:str):\n",
    "    done = 0\n",
    "    emp_task = requests.get(base_link+links_ns.taskrole.position+str(p)).json()\n",
    "    nb = len(emp_task)\n",
    "    if nb > 0:\n",
    "        done = computer_finished_tasks(get_taskrole_status_list(emp_task))\n",
    "    return dict({\"nb\":nb, \"done\":done})\n",
    "get_task_data(6)"
   ]
  },
  {
   "cell_type": "code",
   "execution_count": 69,
   "id": "b88d468a",
   "metadata": {},
   "outputs": [
    {
     "data": {
      "text/plain": [
       "{'nb': 5, 'done': 1}"
      ]
     },
     "execution_count": 69,
     "metadata": {},
     "output_type": "execute_result"
    }
   ],
   "source": [
    "def get_evaluation_data(p:str):\n",
    "    done = 0\n",
    "    eval_data = requests.get(base_link+links_ns.evaluation.position+str(p)).json()\n",
    "    nb = len(eval_data)\n",
    "    return dict({\"nb\":5, \"done\":nb})\n",
    "get_evaluation_data(10)"
   ]
  },
  {
   "cell_type": "code",
   "execution_count": 75,
   "id": "72e0d18e",
   "metadata": {},
   "outputs": [
    {
     "data": {
      "text/plain": [
       "{'nb': 2, 'done': 1}"
      ]
     },
     "execution_count": 75,
     "metadata": {},
     "output_type": "execute_result"
    }
   ],
   "source": [
    "def get_course_data(p:str):\n",
    "    course_data = requests.get(base_link+links_ns.course.position+str(p)).json()\n",
    "    nb = len(course_data)\n",
    "    done = len([1 for x in course_data if x[\"status\"] == \"FINISHED\"])\n",
    "    return dict({\"nb\":nb, \"done\":done})\n",
    "get_course_data(6)"
   ]
  },
  {
   "cell_type": "code",
   "execution_count": 77,
   "id": "1ddd3ac0",
   "metadata": {},
   "outputs": [
    {
     "data": {
      "text/plain": [
       "{'absence': {'nb': 4, 'done': 3},\n",
       " 'evaluation': {'nb': 5, 'done': 1},\n",
       " 'task': {'nb': 2, 'done': 0},\n",
       " 'training': {'nb': 0, 'done': 0}}"
      ]
     },
     "execution_count": 77,
     "metadata": {},
     "output_type": "execute_result"
    }
   ],
   "source": [
    "{\n",
    "    \"absence\":get_absence_data(\"10\",\"2023-04-01\",\"2023-04-30\"),\n",
    "    \"evaluation\":get_evaluation_data(10),\n",
    "    \"task\":get_task_data(10),\n",
    "    \"training\":get_course_data(10)\n",
    "}"
   ]
  }
 ],
 "metadata": {
  "kernelspec": {
   "display_name": "Python 3 (ipykernel)",
   "language": "python",
   "name": "python3"
  },
  "language_info": {
   "codemirror_mode": {
    "name": "ipython",
    "version": 3
   },
   "file_extension": ".py",
   "mimetype": "text/x-python",
   "name": "python",
   "nbconvert_exporter": "python",
   "pygments_lexer": "ipython3",
   "version": "3.9.7"
  }
 },
 "nbformat": 4,
 "nbformat_minor": 5
}
