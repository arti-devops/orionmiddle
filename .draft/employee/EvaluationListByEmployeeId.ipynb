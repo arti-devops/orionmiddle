{
 "cells": [
  {
   "attachments": {},
   "cell_type": "markdown",
   "metadata": {},
   "source": [
    "# Load employee evaluations"
   ]
  },
  {
   "cell_type": "code",
   "execution_count": 1,
   "metadata": {},
   "outputs": [],
   "source": [
    "# Import links namespace\n",
    "%run ./links.ipynb\n",
    "\n",
    "import pandas as pd\n",
    "import requests"
   ]
  },
  {
   "cell_type": "code",
   "execution_count": 14,
   "metadata": {},
   "outputs": [],
   "source": [
    "link_to_emp_evals = links_ns.evaluation.position+'6'\n",
    "emp_evals = requests.get(link_to_emp_evals).json()\n",
    "df = pd.json_normalize(emp_evals)"
   ]
  },
  {
   "cell_type": "code",
   "execution_count": 15,
   "metadata": {},
   "outputs": [
    {
     "data": {
      "text/html": [
       "<div>\n",
       "<style scoped>\n",
       "    .dataframe tbody tr th:only-of-type {\n",
       "        vertical-align: middle;\n",
       "    }\n",
       "\n",
       "    .dataframe tbody tr th {\n",
       "        vertical-align: top;\n",
       "    }\n",
       "\n",
       "    .dataframe thead th {\n",
       "        text-align: right;\n",
       "    }\n",
       "</style>\n",
       "<table border=\"1\" class=\"dataframe\">\n",
       "  <thead>\n",
       "    <tr style=\"text-align: right;\">\n",
       "      <th></th>\n",
       "      <th>evaluationId</th>\n",
       "      <th>subtitle</th>\n",
       "      <th>evalDate</th>\n",
       "      <th>status</th>\n",
       "      <th>description</th>\n",
       "      <th>position</th>\n",
       "    </tr>\n",
       "  </thead>\n",
       "  <tbody>\n",
       "    <tr>\n",
       "      <th>0</th>\n",
       "      <td>2</td>\n",
       "      <td>Changement de poste</td>\n",
       "      <td>2022-09-02</td>\n",
       "      <td>PROMOTION</td>\n",
       "      <td>Passage de Chargé d'études (CE) à CE Projets e...</td>\n",
       "      <td>None</td>\n",
       "    </tr>\n",
       "    <tr>\n",
       "      <th>1</th>\n",
       "      <td>3</td>\n",
       "      <td>Changement de responsabilité</td>\n",
       "      <td>2023-03-06</td>\n",
       "      <td>PROMOTION</td>\n",
       "      <td>Passage de Chargé d'études à Chef de Service R&amp;D</td>\n",
       "      <td>None</td>\n",
       "    </tr>\n",
       "  </tbody>\n",
       "</table>\n",
       "</div>"
      ],
      "text/plain": [
       "   evaluationId                      subtitle    evalDate     status   \n",
       "0             2           Changement de poste  2022-09-02  PROMOTION  \\\n",
       "1             3  Changement de responsabilité  2023-03-06  PROMOTION   \n",
       "\n",
       "                                         description position  \n",
       "0  Passage de Chargé d'études (CE) à CE Projets e...     None  \n",
       "1   Passage de Chargé d'études à Chef de Service R&D     None  "
      ]
     },
     "execution_count": 15,
     "metadata": {},
     "output_type": "execute_result"
    }
   ],
   "source": [
    "df.head()"
   ]
  }
 ],
 "metadata": {
  "kernelspec": {
   "display_name": ".venv",
   "language": "python",
   "name": "python3"
  },
  "language_info": {
   "codemirror_mode": {
    "name": "ipython",
    "version": 3
   },
   "file_extension": ".py",
   "mimetype": "text/x-python",
   "name": "python",
   "nbconvert_exporter": "python",
   "pygments_lexer": "ipython3",
   "version": "3.10.6"
  },
  "orig_nbformat": 4
 },
 "nbformat": 4,
 "nbformat_minor": 2
}
