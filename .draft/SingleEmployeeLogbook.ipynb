{
 "cells": [
  {
   "cell_type": "code",
   "execution_count": 142,
   "metadata": {},
   "outputs": [],
   "source": [
    "%run ./links.ipynb\n",
    "import pandas as pd\n",
    "import requests\n"
   ]
  },
  {
   "cell_type": "code",
   "execution_count": 143,
   "metadata": {},
   "outputs": [],
   "source": [
    "from datetime import datetime, timedelta\n",
    "def time_diff(start_time_str, end_time_str=\"08:10:00\"):\n",
    "    start_time = datetime.strptime(start_time_str, '%H:%M:%S')\n",
    "    end_time = datetime.strptime(end_time_str, '%H:%M:%S')\n",
    "    time_delta = end_time - start_time\n",
    "    time_diff_seconds = int(time_delta.total_seconds())\n",
    "    return time_diff_seconds"
   ]
  },
  {
   "cell_type": "code",
   "execution_count": 144,
   "metadata": {},
   "outputs": [
    {
     "data": {
      "text/plain": [
       "22"
      ]
     },
     "execution_count": 144,
     "metadata": {},
     "output_type": "execute_result"
    }
   ],
   "source": [
    "from pandas.tseries.offsets import BDay\n",
    "from calendar import monthrange\n",
    "\n",
    "def generate_business_days_in_month(date_str: str):\n",
    "    # Convert input date string to pandas datetime\n",
    "    date = pd.to_datetime(date_str)\n",
    "\n",
    "    # Extract year and month from the input date\n",
    "    year = date.year\n",
    "    month = date.month\n",
    "\n",
    "    # Determine the last valid day of the month\n",
    "    last_day = monthrange(year, month)[1]\n",
    "\n",
    "    # Update the end date of the date range to the last valid day of the month\n",
    "    date_range = pd.date_range(start=f\"{year}-{month}-01\", end=f\"{year}-{month}-{last_day}\", freq='B')\n",
    "\n",
    "    # Filter the dates to get only business days\n",
    "    business_days = date_range[date_range.isin(pd.date_range(date_range[0], date_range[-1], freq=BDay()))]\n",
    "\n",
    "    # Convert the resulting pandas DatetimeIndex to a list of strings in YYYY-mm-dd format\n",
    "    business_days_list = business_days.strftime('%Y-%m-%d').tolist()\n",
    "\n",
    "    return business_days_list\n",
    "\n",
    "# Example usage\n",
    "date_str = \"2023-01-01\"\n",
    "business_days = generate_business_days_in_month(date_str)\n",
    "len(business_days)\n"
   ]
  },
  {
   "cell_type": "code",
   "execution_count": 145,
   "metadata": {},
   "outputs": [],
   "source": [
    "link_to_emp_logs = links_ns.logbook.prange+'6/2023-04-01/2023-04-30'\n",
    "emp_logs = requests.get(link_to_emp_logs).json()\n",
    "emp_logs = pd.json_normalize(emp_logs)\n",
    "select_cols = [\"logbookId\",\"logDate\",\"checkinTime\"]\n",
    "emp_logs = emp_logs[select_cols]"
   ]
  },
  {
   "cell_type": "code",
   "execution_count": 146,
   "metadata": {},
   "outputs": [],
   "source": [
    "\n",
    "bdays.head(2)\n",
    "bdays = pd.DataFrame(generate_business_days_in_month(\"2023-04-30\"), columns=[\"bdays\"])"
   ]
  },
  {
   "cell_type": "code",
   "execution_count": 147,
   "metadata": {},
   "outputs": [
    {
     "data": {
      "text/html": [
       "<div>\n",
       "<style scoped>\n",
       "    .dataframe tbody tr th:only-of-type {\n",
       "        vertical-align: middle;\n",
       "    }\n",
       "\n",
       "    .dataframe tbody tr th {\n",
       "        vertical-align: top;\n",
       "    }\n",
       "\n",
       "    .dataframe thead th {\n",
       "        text-align: right;\n",
       "    }\n",
       "</style>\n",
       "<table border=\"1\" class=\"dataframe\">\n",
       "  <thead>\n",
       "    <tr style=\"text-align: right;\">\n",
       "      <th></th>\n",
       "      <th>bdays</th>\n",
       "      <th>logbookId</th>\n",
       "      <th>checkinTime</th>\n",
       "    </tr>\n",
       "  </thead>\n",
       "  <tbody>\n",
       "    <tr>\n",
       "      <th>0</th>\n",
       "      <td>2023-04-03</td>\n",
       "      <td>1105.0</td>\n",
       "      <td>07:55:00</td>\n",
       "    </tr>\n",
       "    <tr>\n",
       "      <th>1</th>\n",
       "      <td>2023-04-04</td>\n",
       "      <td>1106.0</td>\n",
       "      <td>08:16:00</td>\n",
       "    </tr>\n",
       "  </tbody>\n",
       "</table>\n",
       "</div>"
      ],
      "text/plain": [
       "        bdays  logbookId checkinTime\n",
       "0  2023-04-03     1105.0    07:55:00\n",
       "1  2023-04-04     1106.0    08:16:00"
      ]
     },
     "execution_count": 147,
     "metadata": {},
     "output_type": "execute_result"
    }
   ],
   "source": [
    "df = pd.merge(bdays, emp_logs, how=\"left\", left_on=\"bdays\", right_on=\"logDate\")\n",
    "df = df[[\"bdays\",\"logbookId\",\"checkinTime\"]]\n",
    "df.logbookId.fillna(0, inplace=True)\n",
    "df.checkinTime.fillna(\"23:59:59\", inplace=True)\n",
    "df.head(2)"
   ]
  },
  {
   "cell_type": "code",
   "execution_count": 148,
   "metadata": {},
   "outputs": [],
   "source": [
    "df[\"isLate\"] = df.checkinTime.map(time_diff) < 0\n",
    "df[\"isPresent\"] = df.logbookId > 0\n",
    "df[\"isLate\"] = df.isLate * df.isPresent\n",
    "df.rename(columns={\"bdays\":\"logDate\",\"checkinTime\":\"checkIn\"}, inplace=True)\n",
    "#df = df[[\"logDate\",\"checkIn\",\"isPresent\",\"isLate\"]]"
   ]
  },
  {
   "cell_type": "code",
   "execution_count": 149,
   "metadata": {},
   "outputs": [
    {
     "data": {
      "text/html": [
       "<div>\n",
       "<style scoped>\n",
       "    .dataframe tbody tr th:only-of-type {\n",
       "        vertical-align: middle;\n",
       "    }\n",
       "\n",
       "    .dataframe tbody tr th {\n",
       "        vertical-align: top;\n",
       "    }\n",
       "\n",
       "    .dataframe thead th {\n",
       "        text-align: right;\n",
       "    }\n",
       "</style>\n",
       "<table border=\"1\" class=\"dataframe\">\n",
       "  <thead>\n",
       "    <tr style=\"text-align: right;\">\n",
       "      <th></th>\n",
       "      <th>logDate</th>\n",
       "      <th>logbookId</th>\n",
       "      <th>checkIn</th>\n",
       "      <th>isLate</th>\n",
       "      <th>isPresent</th>\n",
       "    </tr>\n",
       "  </thead>\n",
       "  <tbody>\n",
       "    <tr>\n",
       "      <th>0</th>\n",
       "      <td>2023-04-03</td>\n",
       "      <td>1105.0</td>\n",
       "      <td>07:55:00</td>\n",
       "      <td>False</td>\n",
       "      <td>True</td>\n",
       "    </tr>\n",
       "    <tr>\n",
       "      <th>1</th>\n",
       "      <td>2023-04-04</td>\n",
       "      <td>1106.0</td>\n",
       "      <td>08:16:00</td>\n",
       "      <td>True</td>\n",
       "      <td>True</td>\n",
       "    </tr>\n",
       "    <tr>\n",
       "      <th>2</th>\n",
       "      <td>2023-04-05</td>\n",
       "      <td>1107.0</td>\n",
       "      <td>08:25:00</td>\n",
       "      <td>True</td>\n",
       "      <td>True</td>\n",
       "    </tr>\n",
       "    <tr>\n",
       "      <th>3</th>\n",
       "      <td>2023-04-06</td>\n",
       "      <td>1108.0</td>\n",
       "      <td>08:22:00</td>\n",
       "      <td>True</td>\n",
       "      <td>True</td>\n",
       "    </tr>\n",
       "    <tr>\n",
       "      <th>4</th>\n",
       "      <td>2023-04-07</td>\n",
       "      <td>1109.0</td>\n",
       "      <td>07:50:00</td>\n",
       "      <td>False</td>\n",
       "      <td>True</td>\n",
       "    </tr>\n",
       "    <tr>\n",
       "      <th>5</th>\n",
       "      <td>2023-04-10</td>\n",
       "      <td>0.0</td>\n",
       "      <td>23:59:59</td>\n",
       "      <td>False</td>\n",
       "      <td>False</td>\n",
       "    </tr>\n",
       "    <tr>\n",
       "      <th>6</th>\n",
       "      <td>2023-04-11</td>\n",
       "      <td>1110.0</td>\n",
       "      <td>08:02:00</td>\n",
       "      <td>False</td>\n",
       "      <td>True</td>\n",
       "    </tr>\n",
       "    <tr>\n",
       "      <th>7</th>\n",
       "      <td>2023-04-12</td>\n",
       "      <td>0.0</td>\n",
       "      <td>23:59:59</td>\n",
       "      <td>False</td>\n",
       "      <td>False</td>\n",
       "    </tr>\n",
       "    <tr>\n",
       "      <th>8</th>\n",
       "      <td>2023-04-13</td>\n",
       "      <td>0.0</td>\n",
       "      <td>23:59:59</td>\n",
       "      <td>False</td>\n",
       "      <td>False</td>\n",
       "    </tr>\n",
       "    <tr>\n",
       "      <th>9</th>\n",
       "      <td>2023-04-14</td>\n",
       "      <td>0.0</td>\n",
       "      <td>23:59:59</td>\n",
       "      <td>False</td>\n",
       "      <td>False</td>\n",
       "    </tr>\n",
       "    <tr>\n",
       "      <th>10</th>\n",
       "      <td>2023-04-17</td>\n",
       "      <td>0.0</td>\n",
       "      <td>23:59:59</td>\n",
       "      <td>False</td>\n",
       "      <td>False</td>\n",
       "    </tr>\n",
       "    <tr>\n",
       "      <th>11</th>\n",
       "      <td>2023-04-18</td>\n",
       "      <td>0.0</td>\n",
       "      <td>23:59:59</td>\n",
       "      <td>False</td>\n",
       "      <td>False</td>\n",
       "    </tr>\n",
       "    <tr>\n",
       "      <th>12</th>\n",
       "      <td>2023-04-19</td>\n",
       "      <td>0.0</td>\n",
       "      <td>23:59:59</td>\n",
       "      <td>False</td>\n",
       "      <td>False</td>\n",
       "    </tr>\n",
       "    <tr>\n",
       "      <th>13</th>\n",
       "      <td>2023-04-20</td>\n",
       "      <td>0.0</td>\n",
       "      <td>23:59:59</td>\n",
       "      <td>False</td>\n",
       "      <td>False</td>\n",
       "    </tr>\n",
       "    <tr>\n",
       "      <th>14</th>\n",
       "      <td>2023-04-21</td>\n",
       "      <td>1111.0</td>\n",
       "      <td>00:00:00</td>\n",
       "      <td>False</td>\n",
       "      <td>True</td>\n",
       "    </tr>\n",
       "    <tr>\n",
       "      <th>15</th>\n",
       "      <td>2023-04-24</td>\n",
       "      <td>0.0</td>\n",
       "      <td>23:59:59</td>\n",
       "      <td>False</td>\n",
       "      <td>False</td>\n",
       "    </tr>\n",
       "    <tr>\n",
       "      <th>16</th>\n",
       "      <td>2023-04-25</td>\n",
       "      <td>1112.0</td>\n",
       "      <td>00:00:00</td>\n",
       "      <td>False</td>\n",
       "      <td>True</td>\n",
       "    </tr>\n",
       "    <tr>\n",
       "      <th>17</th>\n",
       "      <td>2023-04-26</td>\n",
       "      <td>1113.0</td>\n",
       "      <td>00:00:00</td>\n",
       "      <td>False</td>\n",
       "      <td>True</td>\n",
       "    </tr>\n",
       "    <tr>\n",
       "      <th>18</th>\n",
       "      <td>2023-04-27</td>\n",
       "      <td>1114.0</td>\n",
       "      <td>00:00:00</td>\n",
       "      <td>False</td>\n",
       "      <td>True</td>\n",
       "    </tr>\n",
       "    <tr>\n",
       "      <th>19</th>\n",
       "      <td>2023-04-28</td>\n",
       "      <td>1104.0</td>\n",
       "      <td>08:00:00</td>\n",
       "      <td>False</td>\n",
       "      <td>True</td>\n",
       "    </tr>\n",
       "  </tbody>\n",
       "</table>\n",
       "</div>"
      ],
      "text/plain": [
       "       logDate  logbookId   checkIn  isLate  isPresent\n",
       "0   2023-04-03     1105.0  07:55:00   False       True\n",
       "1   2023-04-04     1106.0  08:16:00    True       True\n",
       "2   2023-04-05     1107.0  08:25:00    True       True\n",
       "3   2023-04-06     1108.0  08:22:00    True       True\n",
       "4   2023-04-07     1109.0  07:50:00   False       True\n",
       "5   2023-04-10        0.0  23:59:59   False      False\n",
       "6   2023-04-11     1110.0  08:02:00   False       True\n",
       "7   2023-04-12        0.0  23:59:59   False      False\n",
       "8   2023-04-13        0.0  23:59:59   False      False\n",
       "9   2023-04-14        0.0  23:59:59   False      False\n",
       "10  2023-04-17        0.0  23:59:59   False      False\n",
       "11  2023-04-18        0.0  23:59:59   False      False\n",
       "12  2023-04-19        0.0  23:59:59   False      False\n",
       "13  2023-04-20        0.0  23:59:59   False      False\n",
       "14  2023-04-21     1111.0  00:00:00   False       True\n",
       "15  2023-04-24        0.0  23:59:59   False      False\n",
       "16  2023-04-25     1112.0  00:00:00   False       True\n",
       "17  2023-04-26     1113.0  00:00:00   False       True\n",
       "18  2023-04-27     1114.0  00:00:00   False       True\n",
       "19  2023-04-28     1104.0  08:00:00   False       True"
      ]
     },
     "execution_count": 149,
     "metadata": {},
     "output_type": "execute_result"
    }
   ],
   "source": [
    "df"
   ]
  },
  {
   "cell_type": "code",
   "execution_count": 150,
   "metadata": {},
   "outputs": [
    {
     "data": {
      "text/plain": [
       "isLate\n",
       "False    17\n",
       "True      3\n",
       "Name: count, dtype: int64"
      ]
     },
     "execution_count": 150,
     "metadata": {},
     "output_type": "execute_result"
    }
   ],
   "source": [
    "df.isLate.value_counts()"
   ]
  },
  {
   "cell_type": "code",
   "execution_count": 151,
   "metadata": {},
   "outputs": [
    {
     "data": {
      "text/plain": [
       "isPresent\n",
       "True     11\n",
       "False     9\n",
       "Name: count, dtype: int64"
      ]
     },
     "execution_count": 151,
     "metadata": {},
     "output_type": "execute_result"
    }
   ],
   "source": [
    "df.isPresent.value_counts()"
   ]
  },
  {
   "attachments": {},
   "cell_type": "markdown",
   "metadata": {},
   "source": [
    "# Display data monthly"
   ]
  },
  {
   "cell_type": "code",
   "execution_count": 153,
   "metadata": {},
   "outputs": [
    {
     "ename": "AttributeError",
     "evalue": "'Series' object has no attribute 'month'",
     "output_type": "error",
     "traceback": [
      "\u001b[0;31m---------------------------------------------------------------------------\u001b[0m",
      "\u001b[0;31mAttributeError\u001b[0m                            Traceback (most recent call last)",
      "Cell \u001b[0;32mIn[153], line 1\u001b[0m\n\u001b[0;32m----> 1\u001b[0m df\u001b[39m.\u001b[39;49mlogDate\u001b[39m.\u001b[39;49mmonth\n",
      "File \u001b[0;32m~/dev/arti-devops/orionmiddle/.venv/lib/python3.10/site-packages/pandas/core/generic.py:5989\u001b[0m, in \u001b[0;36mNDFrame.__getattr__\u001b[0;34m(self, name)\u001b[0m\n\u001b[1;32m   5982\u001b[0m \u001b[39mif\u001b[39;00m (\n\u001b[1;32m   5983\u001b[0m     name \u001b[39mnot\u001b[39;00m \u001b[39min\u001b[39;00m \u001b[39mself\u001b[39m\u001b[39m.\u001b[39m_internal_names_set\n\u001b[1;32m   5984\u001b[0m     \u001b[39mand\u001b[39;00m name \u001b[39mnot\u001b[39;00m \u001b[39min\u001b[39;00m \u001b[39mself\u001b[39m\u001b[39m.\u001b[39m_metadata\n\u001b[1;32m   5985\u001b[0m     \u001b[39mand\u001b[39;00m name \u001b[39mnot\u001b[39;00m \u001b[39min\u001b[39;00m \u001b[39mself\u001b[39m\u001b[39m.\u001b[39m_accessors\n\u001b[1;32m   5986\u001b[0m     \u001b[39mand\u001b[39;00m \u001b[39mself\u001b[39m\u001b[39m.\u001b[39m_info_axis\u001b[39m.\u001b[39m_can_hold_identifiers_and_holds_name(name)\n\u001b[1;32m   5987\u001b[0m ):\n\u001b[1;32m   5988\u001b[0m     \u001b[39mreturn\u001b[39;00m \u001b[39mself\u001b[39m[name]\n\u001b[0;32m-> 5989\u001b[0m \u001b[39mreturn\u001b[39;00m \u001b[39mobject\u001b[39;49m\u001b[39m.\u001b[39;49m\u001b[39m__getattribute__\u001b[39;49m(\u001b[39mself\u001b[39;49m, name)\n",
      "\u001b[0;31mAttributeError\u001b[0m: 'Series' object has no attribute 'month'"
     ]
    }
   ],
   "source": [
    "df.logDate.month"
   ]
  }
 ],
 "metadata": {
  "kernelspec": {
   "display_name": ".venv",
   "language": "python",
   "name": "python3"
  },
  "language_info": {
   "codemirror_mode": {
    "name": "ipython",
    "version": 3
   },
   "file_extension": ".py",
   "mimetype": "text/x-python",
   "name": "python",
   "nbconvert_exporter": "python",
   "pygments_lexer": "ipython3",
   "version": "3.10.6"
  },
  "orig_nbformat": 4
 },
 "nbformat": 4,
 "nbformat_minor": 2
}
